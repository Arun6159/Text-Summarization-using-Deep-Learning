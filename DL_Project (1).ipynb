{
  "nbformat": 4,
  "nbformat_minor": 0,
  "metadata": {
    "colab": {
      "provenance": []
    },
    "kernelspec": {
      "name": "python3",
      "display_name": "Python 3"
    },
    "language_info": {
      "name": "python"
    },
    "widgets": {
      "application/vnd.jupyter.widget-state+json": {
        "6ab9b4c6a02249b88d1474996ee928d1": {
          "model_module": "@jupyter-widgets/controls",
          "model_name": "HBoxModel",
          "model_module_version": "1.5.0",
          "state": {
            "_dom_classes": [],
            "_model_module": "@jupyter-widgets/controls",
            "_model_module_version": "1.5.0",
            "_model_name": "HBoxModel",
            "_view_count": null,
            "_view_module": "@jupyter-widgets/controls",
            "_view_module_version": "1.5.0",
            "_view_name": "HBoxView",
            "box_style": "",
            "children": [
              "IPY_MODEL_d885008075e44d8f934fc66d9d63ee30",
              "IPY_MODEL_ce3ddac5dca34027ae48734255d1c8bc",
              "IPY_MODEL_344954f41deb4ec3b3ead59c40387f84"
            ],
            "layout": "IPY_MODEL_7f81393002e74c64a12ca8cede2a5147"
          }
        },
        "d885008075e44d8f934fc66d9d63ee30": {
          "model_module": "@jupyter-widgets/controls",
          "model_name": "HTMLModel",
          "model_module_version": "1.5.0",
          "state": {
            "_dom_classes": [],
            "_model_module": "@jupyter-widgets/controls",
            "_model_module_version": "1.5.0",
            "_model_name": "HTMLModel",
            "_view_count": null,
            "_view_module": "@jupyter-widgets/controls",
            "_view_module_version": "1.5.0",
            "_view_name": "HTMLView",
            "description": "",
            "description_tooltip": null,
            "layout": "IPY_MODEL_061f7c0a344649bfa099cc4a0796539d",
            "placeholder": "​",
            "style": "IPY_MODEL_05a40d1b17004a81b363e3015bc9e3b4",
            "value": "config.json: 100%"
          }
        },
        "ce3ddac5dca34027ae48734255d1c8bc": {
          "model_module": "@jupyter-widgets/controls",
          "model_name": "FloatProgressModel",
          "model_module_version": "1.5.0",
          "state": {
            "_dom_classes": [],
            "_model_module": "@jupyter-widgets/controls",
            "_model_module_version": "1.5.0",
            "_model_name": "FloatProgressModel",
            "_view_count": null,
            "_view_module": "@jupyter-widgets/controls",
            "_view_module_version": "1.5.0",
            "_view_name": "ProgressView",
            "bar_style": "success",
            "description": "",
            "description_tooltip": null,
            "layout": "IPY_MODEL_0ef979e014714d09b19d3cea46731f95",
            "max": 762,
            "min": 0,
            "orientation": "horizontal",
            "style": "IPY_MODEL_92b0f83db79342309c56e5106abc284a",
            "value": 762
          }
        },
        "344954f41deb4ec3b3ead59c40387f84": {
          "model_module": "@jupyter-widgets/controls",
          "model_name": "HTMLModel",
          "model_module_version": "1.5.0",
          "state": {
            "_dom_classes": [],
            "_model_module": "@jupyter-widgets/controls",
            "_model_module_version": "1.5.0",
            "_model_name": "HTMLModel",
            "_view_count": null,
            "_view_module": "@jupyter-widgets/controls",
            "_view_module_version": "1.5.0",
            "_view_name": "HTMLView",
            "description": "",
            "description_tooltip": null,
            "layout": "IPY_MODEL_4212459cf3f0453ba0c86a41ee27d807",
            "placeholder": "​",
            "style": "IPY_MODEL_9052ba81184d422c81d6162131b584d1",
            "value": " 762/762 [00:00&lt;00:00, 15.0kB/s]"
          }
        },
        "7f81393002e74c64a12ca8cede2a5147": {
          "model_module": "@jupyter-widgets/base",
          "model_name": "LayoutModel",
          "model_module_version": "1.2.0",
          "state": {
            "_model_module": "@jupyter-widgets/base",
            "_model_module_version": "1.2.0",
            "_model_name": "LayoutModel",
            "_view_count": null,
            "_view_module": "@jupyter-widgets/base",
            "_view_module_version": "1.2.0",
            "_view_name": "LayoutView",
            "align_content": null,
            "align_items": null,
            "align_self": null,
            "border": null,
            "bottom": null,
            "display": null,
            "flex": null,
            "flex_flow": null,
            "grid_area": null,
            "grid_auto_columns": null,
            "grid_auto_flow": null,
            "grid_auto_rows": null,
            "grid_column": null,
            "grid_gap": null,
            "grid_row": null,
            "grid_template_areas": null,
            "grid_template_columns": null,
            "grid_template_rows": null,
            "height": null,
            "justify_content": null,
            "justify_items": null,
            "left": null,
            "margin": null,
            "max_height": null,
            "max_width": null,
            "min_height": null,
            "min_width": null,
            "object_fit": null,
            "object_position": null,
            "order": null,
            "overflow": null,
            "overflow_x": null,
            "overflow_y": null,
            "padding": null,
            "right": null,
            "top": null,
            "visibility": null,
            "width": null
          }
        },
        "061f7c0a344649bfa099cc4a0796539d": {
          "model_module": "@jupyter-widgets/base",
          "model_name": "LayoutModel",
          "model_module_version": "1.2.0",
          "state": {
            "_model_module": "@jupyter-widgets/base",
            "_model_module_version": "1.2.0",
            "_model_name": "LayoutModel",
            "_view_count": null,
            "_view_module": "@jupyter-widgets/base",
            "_view_module_version": "1.2.0",
            "_view_name": "LayoutView",
            "align_content": null,
            "align_items": null,
            "align_self": null,
            "border": null,
            "bottom": null,
            "display": null,
            "flex": null,
            "flex_flow": null,
            "grid_area": null,
            "grid_auto_columns": null,
            "grid_auto_flow": null,
            "grid_auto_rows": null,
            "grid_column": null,
            "grid_gap": null,
            "grid_row": null,
            "grid_template_areas": null,
            "grid_template_columns": null,
            "grid_template_rows": null,
            "height": null,
            "justify_content": null,
            "justify_items": null,
            "left": null,
            "margin": null,
            "max_height": null,
            "max_width": null,
            "min_height": null,
            "min_width": null,
            "object_fit": null,
            "object_position": null,
            "order": null,
            "overflow": null,
            "overflow_x": null,
            "overflow_y": null,
            "padding": null,
            "right": null,
            "top": null,
            "visibility": null,
            "width": null
          }
        },
        "05a40d1b17004a81b363e3015bc9e3b4": {
          "model_module": "@jupyter-widgets/controls",
          "model_name": "DescriptionStyleModel",
          "model_module_version": "1.5.0",
          "state": {
            "_model_module": "@jupyter-widgets/controls",
            "_model_module_version": "1.5.0",
            "_model_name": "DescriptionStyleModel",
            "_view_count": null,
            "_view_module": "@jupyter-widgets/base",
            "_view_module_version": "1.2.0",
            "_view_name": "StyleView",
            "description_width": ""
          }
        },
        "0ef979e014714d09b19d3cea46731f95": {
          "model_module": "@jupyter-widgets/base",
          "model_name": "LayoutModel",
          "model_module_version": "1.2.0",
          "state": {
            "_model_module": "@jupyter-widgets/base",
            "_model_module_version": "1.2.0",
            "_model_name": "LayoutModel",
            "_view_count": null,
            "_view_module": "@jupyter-widgets/base",
            "_view_module_version": "1.2.0",
            "_view_name": "LayoutView",
            "align_content": null,
            "align_items": null,
            "align_self": null,
            "border": null,
            "bottom": null,
            "display": null,
            "flex": null,
            "flex_flow": null,
            "grid_area": null,
            "grid_auto_columns": null,
            "grid_auto_flow": null,
            "grid_auto_rows": null,
            "grid_column": null,
            "grid_gap": null,
            "grid_row": null,
            "grid_template_areas": null,
            "grid_template_columns": null,
            "grid_template_rows": null,
            "height": null,
            "justify_content": null,
            "justify_items": null,
            "left": null,
            "margin": null,
            "max_height": null,
            "max_width": null,
            "min_height": null,
            "min_width": null,
            "object_fit": null,
            "object_position": null,
            "order": null,
            "overflow": null,
            "overflow_x": null,
            "overflow_y": null,
            "padding": null,
            "right": null,
            "top": null,
            "visibility": null,
            "width": null
          }
        },
        "92b0f83db79342309c56e5106abc284a": {
          "model_module": "@jupyter-widgets/controls",
          "model_name": "ProgressStyleModel",
          "model_module_version": "1.5.0",
          "state": {
            "_model_module": "@jupyter-widgets/controls",
            "_model_module_version": "1.5.0",
            "_model_name": "ProgressStyleModel",
            "_view_count": null,
            "_view_module": "@jupyter-widgets/base",
            "_view_module_version": "1.2.0",
            "_view_name": "StyleView",
            "bar_color": null,
            "description_width": ""
          }
        },
        "4212459cf3f0453ba0c86a41ee27d807": {
          "model_module": "@jupyter-widgets/base",
          "model_name": "LayoutModel",
          "model_module_version": "1.2.0",
          "state": {
            "_model_module": "@jupyter-widgets/base",
            "_model_module_version": "1.2.0",
            "_model_name": "LayoutModel",
            "_view_count": null,
            "_view_module": "@jupyter-widgets/base",
            "_view_module_version": "1.2.0",
            "_view_name": "LayoutView",
            "align_content": null,
            "align_items": null,
            "align_self": null,
            "border": null,
            "bottom": null,
            "display": null,
            "flex": null,
            "flex_flow": null,
            "grid_area": null,
            "grid_auto_columns": null,
            "grid_auto_flow": null,
            "grid_auto_rows": null,
            "grid_column": null,
            "grid_gap": null,
            "grid_row": null,
            "grid_template_areas": null,
            "grid_template_columns": null,
            "grid_template_rows": null,
            "height": null,
            "justify_content": null,
            "justify_items": null,
            "left": null,
            "margin": null,
            "max_height": null,
            "max_width": null,
            "min_height": null,
            "min_width": null,
            "object_fit": null,
            "object_position": null,
            "order": null,
            "overflow": null,
            "overflow_x": null,
            "overflow_y": null,
            "padding": null,
            "right": null,
            "top": null,
            "visibility": null,
            "width": null
          }
        },
        "9052ba81184d422c81d6162131b584d1": {
          "model_module": "@jupyter-widgets/controls",
          "model_name": "DescriptionStyleModel",
          "model_module_version": "1.5.0",
          "state": {
            "_model_module": "@jupyter-widgets/controls",
            "_model_module_version": "1.5.0",
            "_model_name": "DescriptionStyleModel",
            "_view_count": null,
            "_view_module": "@jupyter-widgets/base",
            "_view_module_version": "1.2.0",
            "_view_name": "StyleView",
            "description_width": ""
          }
        },
        "4dcfc85480ae4ee6b70e6820bcbf9243": {
          "model_module": "@jupyter-widgets/controls",
          "model_name": "HBoxModel",
          "model_module_version": "1.5.0",
          "state": {
            "_dom_classes": [],
            "_model_module": "@jupyter-widgets/controls",
            "_model_module_version": "1.5.0",
            "_model_name": "HBoxModel",
            "_view_count": null,
            "_view_module": "@jupyter-widgets/controls",
            "_view_module_version": "1.5.0",
            "_view_name": "HBoxView",
            "box_style": "",
            "children": [
              "IPY_MODEL_9ed0bf4b05b94f59b9d9338a3046d90c",
              "IPY_MODEL_b970dfe196de42229e5fd9bb59c48385",
              "IPY_MODEL_d722a5085d73429aa8c4353ca75ebeeb"
            ],
            "layout": "IPY_MODEL_67f6f3f2c49041958440825ed3947d92"
          }
        },
        "9ed0bf4b05b94f59b9d9338a3046d90c": {
          "model_module": "@jupyter-widgets/controls",
          "model_name": "HTMLModel",
          "model_module_version": "1.5.0",
          "state": {
            "_dom_classes": [],
            "_model_module": "@jupyter-widgets/controls",
            "_model_module_version": "1.5.0",
            "_model_name": "HTMLModel",
            "_view_count": null,
            "_view_module": "@jupyter-widgets/controls",
            "_view_module_version": "1.5.0",
            "_view_name": "HTMLView",
            "description": "",
            "description_tooltip": null,
            "layout": "IPY_MODEL_998a20f2f76d49b2ad57e1f058bb6ec4",
            "placeholder": "​",
            "style": "IPY_MODEL_53ee22d9250d4fb2b087409a28e37994",
            "value": "model.safetensors: 100%"
          }
        },
        "b970dfe196de42229e5fd9bb59c48385": {
          "model_module": "@jupyter-widgets/controls",
          "model_name": "FloatProgressModel",
          "model_module_version": "1.5.0",
          "state": {
            "_dom_classes": [],
            "_model_module": "@jupyter-widgets/controls",
            "_model_module_version": "1.5.0",
            "_model_name": "FloatProgressModel",
            "_view_count": null,
            "_view_module": "@jupyter-widgets/controls",
            "_view_module_version": "1.5.0",
            "_view_name": "ProgressView",
            "bar_style": "success",
            "description": "",
            "description_tooltip": null,
            "layout": "IPY_MODEL_8acf017cb8004cf1ac8b4d32911e8b2c",
            "max": 891644832,
            "min": 0,
            "orientation": "horizontal",
            "style": "IPY_MODEL_afabd88a1f7249cbb79d5c277f0daa42",
            "value": 891644832
          }
        },
        "d722a5085d73429aa8c4353ca75ebeeb": {
          "model_module": "@jupyter-widgets/controls",
          "model_name": "HTMLModel",
          "model_module_version": "1.5.0",
          "state": {
            "_dom_classes": [],
            "_model_module": "@jupyter-widgets/controls",
            "_model_module_version": "1.5.0",
            "_model_name": "HTMLModel",
            "_view_count": null,
            "_view_module": "@jupyter-widgets/controls",
            "_view_module_version": "1.5.0",
            "_view_name": "HTMLView",
            "description": "",
            "description_tooltip": null,
            "layout": "IPY_MODEL_603279a25ea840dbb2878610b723f178",
            "placeholder": "​",
            "style": "IPY_MODEL_5973f2d208544f01984edc520a65a415",
            "value": " 892M/892M [00:08&lt;00:00, 69.7MB/s]"
          }
        },
        "67f6f3f2c49041958440825ed3947d92": {
          "model_module": "@jupyter-widgets/base",
          "model_name": "LayoutModel",
          "model_module_version": "1.2.0",
          "state": {
            "_model_module": "@jupyter-widgets/base",
            "_model_module_version": "1.2.0",
            "_model_name": "LayoutModel",
            "_view_count": null,
            "_view_module": "@jupyter-widgets/base",
            "_view_module_version": "1.2.0",
            "_view_name": "LayoutView",
            "align_content": null,
            "align_items": null,
            "align_self": null,
            "border": null,
            "bottom": null,
            "display": null,
            "flex": null,
            "flex_flow": null,
            "grid_area": null,
            "grid_auto_columns": null,
            "grid_auto_flow": null,
            "grid_auto_rows": null,
            "grid_column": null,
            "grid_gap": null,
            "grid_row": null,
            "grid_template_areas": null,
            "grid_template_columns": null,
            "grid_template_rows": null,
            "height": null,
            "justify_content": null,
            "justify_items": null,
            "left": null,
            "margin": null,
            "max_height": null,
            "max_width": null,
            "min_height": null,
            "min_width": null,
            "object_fit": null,
            "object_position": null,
            "order": null,
            "overflow": null,
            "overflow_x": null,
            "overflow_y": null,
            "padding": null,
            "right": null,
            "top": null,
            "visibility": null,
            "width": null
          }
        },
        "998a20f2f76d49b2ad57e1f058bb6ec4": {
          "model_module": "@jupyter-widgets/base",
          "model_name": "LayoutModel",
          "model_module_version": "1.2.0",
          "state": {
            "_model_module": "@jupyter-widgets/base",
            "_model_module_version": "1.2.0",
            "_model_name": "LayoutModel",
            "_view_count": null,
            "_view_module": "@jupyter-widgets/base",
            "_view_module_version": "1.2.0",
            "_view_name": "LayoutView",
            "align_content": null,
            "align_items": null,
            "align_self": null,
            "border": null,
            "bottom": null,
            "display": null,
            "flex": null,
            "flex_flow": null,
            "grid_area": null,
            "grid_auto_columns": null,
            "grid_auto_flow": null,
            "grid_auto_rows": null,
            "grid_column": null,
            "grid_gap": null,
            "grid_row": null,
            "grid_template_areas": null,
            "grid_template_columns": null,
            "grid_template_rows": null,
            "height": null,
            "justify_content": null,
            "justify_items": null,
            "left": null,
            "margin": null,
            "max_height": null,
            "max_width": null,
            "min_height": null,
            "min_width": null,
            "object_fit": null,
            "object_position": null,
            "order": null,
            "overflow": null,
            "overflow_x": null,
            "overflow_y": null,
            "padding": null,
            "right": null,
            "top": null,
            "visibility": null,
            "width": null
          }
        },
        "53ee22d9250d4fb2b087409a28e37994": {
          "model_module": "@jupyter-widgets/controls",
          "model_name": "DescriptionStyleModel",
          "model_module_version": "1.5.0",
          "state": {
            "_model_module": "@jupyter-widgets/controls",
            "_model_module_version": "1.5.0",
            "_model_name": "DescriptionStyleModel",
            "_view_count": null,
            "_view_module": "@jupyter-widgets/base",
            "_view_module_version": "1.2.0",
            "_view_name": "StyleView",
            "description_width": ""
          }
        },
        "8acf017cb8004cf1ac8b4d32911e8b2c": {
          "model_module": "@jupyter-widgets/base",
          "model_name": "LayoutModel",
          "model_module_version": "1.2.0",
          "state": {
            "_model_module": "@jupyter-widgets/base",
            "_model_module_version": "1.2.0",
            "_model_name": "LayoutModel",
            "_view_count": null,
            "_view_module": "@jupyter-widgets/base",
            "_view_module_version": "1.2.0",
            "_view_name": "LayoutView",
            "align_content": null,
            "align_items": null,
            "align_self": null,
            "border": null,
            "bottom": null,
            "display": null,
            "flex": null,
            "flex_flow": null,
            "grid_area": null,
            "grid_auto_columns": null,
            "grid_auto_flow": null,
            "grid_auto_rows": null,
            "grid_column": null,
            "grid_gap": null,
            "grid_row": null,
            "grid_template_areas": null,
            "grid_template_columns": null,
            "grid_template_rows": null,
            "height": null,
            "justify_content": null,
            "justify_items": null,
            "left": null,
            "margin": null,
            "max_height": null,
            "max_width": null,
            "min_height": null,
            "min_width": null,
            "object_fit": null,
            "object_position": null,
            "order": null,
            "overflow": null,
            "overflow_x": null,
            "overflow_y": null,
            "padding": null,
            "right": null,
            "top": null,
            "visibility": null,
            "width": null
          }
        },
        "afabd88a1f7249cbb79d5c277f0daa42": {
          "model_module": "@jupyter-widgets/controls",
          "model_name": "ProgressStyleModel",
          "model_module_version": "1.5.0",
          "state": {
            "_model_module": "@jupyter-widgets/controls",
            "_model_module_version": "1.5.0",
            "_model_name": "ProgressStyleModel",
            "_view_count": null,
            "_view_module": "@jupyter-widgets/base",
            "_view_module_version": "1.2.0",
            "_view_name": "StyleView",
            "bar_color": null,
            "description_width": ""
          }
        },
        "603279a25ea840dbb2878610b723f178": {
          "model_module": "@jupyter-widgets/base",
          "model_name": "LayoutModel",
          "model_module_version": "1.2.0",
          "state": {
            "_model_module": "@jupyter-widgets/base",
            "_model_module_version": "1.2.0",
            "_model_name": "LayoutModel",
            "_view_count": null,
            "_view_module": "@jupyter-widgets/base",
            "_view_module_version": "1.2.0",
            "_view_name": "LayoutView",
            "align_content": null,
            "align_items": null,
            "align_self": null,
            "border": null,
            "bottom": null,
            "display": null,
            "flex": null,
            "flex_flow": null,
            "grid_area": null,
            "grid_auto_columns": null,
            "grid_auto_flow": null,
            "grid_auto_rows": null,
            "grid_column": null,
            "grid_gap": null,
            "grid_row": null,
            "grid_template_areas": null,
            "grid_template_columns": null,
            "grid_template_rows": null,
            "height": null,
            "justify_content": null,
            "justify_items": null,
            "left": null,
            "margin": null,
            "max_height": null,
            "max_width": null,
            "min_height": null,
            "min_width": null,
            "object_fit": null,
            "object_position": null,
            "order": null,
            "overflow": null,
            "overflow_x": null,
            "overflow_y": null,
            "padding": null,
            "right": null,
            "top": null,
            "visibility": null,
            "width": null
          }
        },
        "5973f2d208544f01984edc520a65a415": {
          "model_module": "@jupyter-widgets/controls",
          "model_name": "DescriptionStyleModel",
          "model_module_version": "1.5.0",
          "state": {
            "_model_module": "@jupyter-widgets/controls",
            "_model_module_version": "1.5.0",
            "_model_name": "DescriptionStyleModel",
            "_view_count": null,
            "_view_module": "@jupyter-widgets/base",
            "_view_module_version": "1.2.0",
            "_view_name": "StyleView",
            "description_width": ""
          }
        },
        "af313a1e57804d77b468fe23fc5cefc2": {
          "model_module": "@jupyter-widgets/controls",
          "model_name": "HBoxModel",
          "model_module_version": "1.5.0",
          "state": {
            "_dom_classes": [],
            "_model_module": "@jupyter-widgets/controls",
            "_model_module_version": "1.5.0",
            "_model_name": "HBoxModel",
            "_view_count": null,
            "_view_module": "@jupyter-widgets/controls",
            "_view_module_version": "1.5.0",
            "_view_name": "HBoxView",
            "box_style": "",
            "children": [
              "IPY_MODEL_704f5f43979349b3bcdc203901b4369f",
              "IPY_MODEL_4aabe812a28f477d9d546a5d87b84abb",
              "IPY_MODEL_1e5abd9d799d4d34a9c309cfb8f33e21"
            ],
            "layout": "IPY_MODEL_02b05fb51ca3456fabc36929dfeac093"
          }
        },
        "704f5f43979349b3bcdc203901b4369f": {
          "model_module": "@jupyter-widgets/controls",
          "model_name": "HTMLModel",
          "model_module_version": "1.5.0",
          "state": {
            "_dom_classes": [],
            "_model_module": "@jupyter-widgets/controls",
            "_model_module_version": "1.5.0",
            "_model_name": "HTMLModel",
            "_view_count": null,
            "_view_module": "@jupyter-widgets/controls",
            "_view_module_version": "1.5.0",
            "_view_name": "HTMLView",
            "description": "",
            "description_tooltip": null,
            "layout": "IPY_MODEL_f476dbd0e14f4beb91686c9f1914f3cc",
            "placeholder": "​",
            "style": "IPY_MODEL_00601fd600ad412a9abfc552febd8cfe",
            "value": "tokenizer_config.json: 100%"
          }
        },
        "4aabe812a28f477d9d546a5d87b84abb": {
          "model_module": "@jupyter-widgets/controls",
          "model_name": "FloatProgressModel",
          "model_module_version": "1.5.0",
          "state": {
            "_dom_classes": [],
            "_model_module": "@jupyter-widgets/controls",
            "_model_module_version": "1.5.0",
            "_model_name": "FloatProgressModel",
            "_view_count": null,
            "_view_module": "@jupyter-widgets/controls",
            "_view_module_version": "1.5.0",
            "_view_name": "ProgressView",
            "bar_style": "success",
            "description": "",
            "description_tooltip": null,
            "layout": "IPY_MODEL_3e97ceaf6ff445f885a215902154b417",
            "max": 2376,
            "min": 0,
            "orientation": "horizontal",
            "style": "IPY_MODEL_b8e64b4281f448778c40bc5112350371",
            "value": 2376
          }
        },
        "1e5abd9d799d4d34a9c309cfb8f33e21": {
          "model_module": "@jupyter-widgets/controls",
          "model_name": "HTMLModel",
          "model_module_version": "1.5.0",
          "state": {
            "_dom_classes": [],
            "_model_module": "@jupyter-widgets/controls",
            "_model_module_version": "1.5.0",
            "_model_name": "HTMLModel",
            "_view_count": null,
            "_view_module": "@jupyter-widgets/controls",
            "_view_module_version": "1.5.0",
            "_view_name": "HTMLView",
            "description": "",
            "description_tooltip": null,
            "layout": "IPY_MODEL_2ec2ea3e509f46ac8e2324df5b915a43",
            "placeholder": "​",
            "style": "IPY_MODEL_ab94eb67c06c4c5dab344bcc1f3784aa",
            "value": " 2.38k/2.38k [00:00&lt;00:00, 98.7kB/s]"
          }
        },
        "02b05fb51ca3456fabc36929dfeac093": {
          "model_module": "@jupyter-widgets/base",
          "model_name": "LayoutModel",
          "model_module_version": "1.2.0",
          "state": {
            "_model_module": "@jupyter-widgets/base",
            "_model_module_version": "1.2.0",
            "_model_name": "LayoutModel",
            "_view_count": null,
            "_view_module": "@jupyter-widgets/base",
            "_view_module_version": "1.2.0",
            "_view_name": "LayoutView",
            "align_content": null,
            "align_items": null,
            "align_self": null,
            "border": null,
            "bottom": null,
            "display": null,
            "flex": null,
            "flex_flow": null,
            "grid_area": null,
            "grid_auto_columns": null,
            "grid_auto_flow": null,
            "grid_auto_rows": null,
            "grid_column": null,
            "grid_gap": null,
            "grid_row": null,
            "grid_template_areas": null,
            "grid_template_columns": null,
            "grid_template_rows": null,
            "height": null,
            "justify_content": null,
            "justify_items": null,
            "left": null,
            "margin": null,
            "max_height": null,
            "max_width": null,
            "min_height": null,
            "min_width": null,
            "object_fit": null,
            "object_position": null,
            "order": null,
            "overflow": null,
            "overflow_x": null,
            "overflow_y": null,
            "padding": null,
            "right": null,
            "top": null,
            "visibility": null,
            "width": null
          }
        },
        "f476dbd0e14f4beb91686c9f1914f3cc": {
          "model_module": "@jupyter-widgets/base",
          "model_name": "LayoutModel",
          "model_module_version": "1.2.0",
          "state": {
            "_model_module": "@jupyter-widgets/base",
            "_model_module_version": "1.2.0",
            "_model_name": "LayoutModel",
            "_view_count": null,
            "_view_module": "@jupyter-widgets/base",
            "_view_module_version": "1.2.0",
            "_view_name": "LayoutView",
            "align_content": null,
            "align_items": null,
            "align_self": null,
            "border": null,
            "bottom": null,
            "display": null,
            "flex": null,
            "flex_flow": null,
            "grid_area": null,
            "grid_auto_columns": null,
            "grid_auto_flow": null,
            "grid_auto_rows": null,
            "grid_column": null,
            "grid_gap": null,
            "grid_row": null,
            "grid_template_areas": null,
            "grid_template_columns": null,
            "grid_template_rows": null,
            "height": null,
            "justify_content": null,
            "justify_items": null,
            "left": null,
            "margin": null,
            "max_height": null,
            "max_width": null,
            "min_height": null,
            "min_width": null,
            "object_fit": null,
            "object_position": null,
            "order": null,
            "overflow": null,
            "overflow_x": null,
            "overflow_y": null,
            "padding": null,
            "right": null,
            "top": null,
            "visibility": null,
            "width": null
          }
        },
        "00601fd600ad412a9abfc552febd8cfe": {
          "model_module": "@jupyter-widgets/controls",
          "model_name": "DescriptionStyleModel",
          "model_module_version": "1.5.0",
          "state": {
            "_model_module": "@jupyter-widgets/controls",
            "_model_module_version": "1.5.0",
            "_model_name": "DescriptionStyleModel",
            "_view_count": null,
            "_view_module": "@jupyter-widgets/base",
            "_view_module_version": "1.2.0",
            "_view_name": "StyleView",
            "description_width": ""
          }
        },
        "3e97ceaf6ff445f885a215902154b417": {
          "model_module": "@jupyter-widgets/base",
          "model_name": "LayoutModel",
          "model_module_version": "1.2.0",
          "state": {
            "_model_module": "@jupyter-widgets/base",
            "_model_module_version": "1.2.0",
            "_model_name": "LayoutModel",
            "_view_count": null,
            "_view_module": "@jupyter-widgets/base",
            "_view_module_version": "1.2.0",
            "_view_name": "LayoutView",
            "align_content": null,
            "align_items": null,
            "align_self": null,
            "border": null,
            "bottom": null,
            "display": null,
            "flex": null,
            "flex_flow": null,
            "grid_area": null,
            "grid_auto_columns": null,
            "grid_auto_flow": null,
            "grid_auto_rows": null,
            "grid_column": null,
            "grid_gap": null,
            "grid_row": null,
            "grid_template_areas": null,
            "grid_template_columns": null,
            "grid_template_rows": null,
            "height": null,
            "justify_content": null,
            "justify_items": null,
            "left": null,
            "margin": null,
            "max_height": null,
            "max_width": null,
            "min_height": null,
            "min_width": null,
            "object_fit": null,
            "object_position": null,
            "order": null,
            "overflow": null,
            "overflow_x": null,
            "overflow_y": null,
            "padding": null,
            "right": null,
            "top": null,
            "visibility": null,
            "width": null
          }
        },
        "b8e64b4281f448778c40bc5112350371": {
          "model_module": "@jupyter-widgets/controls",
          "model_name": "ProgressStyleModel",
          "model_module_version": "1.5.0",
          "state": {
            "_model_module": "@jupyter-widgets/controls",
            "_model_module_version": "1.5.0",
            "_model_name": "ProgressStyleModel",
            "_view_count": null,
            "_view_module": "@jupyter-widgets/base",
            "_view_module_version": "1.2.0",
            "_view_name": "StyleView",
            "bar_color": null,
            "description_width": ""
          }
        },
        "2ec2ea3e509f46ac8e2324df5b915a43": {
          "model_module": "@jupyter-widgets/base",
          "model_name": "LayoutModel",
          "model_module_version": "1.2.0",
          "state": {
            "_model_module": "@jupyter-widgets/base",
            "_model_module_version": "1.2.0",
            "_model_name": "LayoutModel",
            "_view_count": null,
            "_view_module": "@jupyter-widgets/base",
            "_view_module_version": "1.2.0",
            "_view_name": "LayoutView",
            "align_content": null,
            "align_items": null,
            "align_self": null,
            "border": null,
            "bottom": null,
            "display": null,
            "flex": null,
            "flex_flow": null,
            "grid_area": null,
            "grid_auto_columns": null,
            "grid_auto_flow": null,
            "grid_auto_rows": null,
            "grid_column": null,
            "grid_gap": null,
            "grid_row": null,
            "grid_template_areas": null,
            "grid_template_columns": null,
            "grid_template_rows": null,
            "height": null,
            "justify_content": null,
            "justify_items": null,
            "left": null,
            "margin": null,
            "max_height": null,
            "max_width": null,
            "min_height": null,
            "min_width": null,
            "object_fit": null,
            "object_position": null,
            "order": null,
            "overflow": null,
            "overflow_x": null,
            "overflow_y": null,
            "padding": null,
            "right": null,
            "top": null,
            "visibility": null,
            "width": null
          }
        },
        "ab94eb67c06c4c5dab344bcc1f3784aa": {
          "model_module": "@jupyter-widgets/controls",
          "model_name": "DescriptionStyleModel",
          "model_module_version": "1.5.0",
          "state": {
            "_model_module": "@jupyter-widgets/controls",
            "_model_module_version": "1.5.0",
            "_model_name": "DescriptionStyleModel",
            "_view_count": null,
            "_view_module": "@jupyter-widgets/base",
            "_view_module_version": "1.2.0",
            "_view_name": "StyleView",
            "description_width": ""
          }
        },
        "f455c10d87c643aaa28cc4ea5c5ade20": {
          "model_module": "@jupyter-widgets/controls",
          "model_name": "HBoxModel",
          "model_module_version": "1.5.0",
          "state": {
            "_dom_classes": [],
            "_model_module": "@jupyter-widgets/controls",
            "_model_module_version": "1.5.0",
            "_model_name": "HBoxModel",
            "_view_count": null,
            "_view_module": "@jupyter-widgets/controls",
            "_view_module_version": "1.5.0",
            "_view_name": "HBoxView",
            "box_style": "",
            "children": [
              "IPY_MODEL_a0eceaa118b24225820c1457dc1e93ab",
              "IPY_MODEL_2ec8f4550bb04b4d8dd8c7c42b22e9e2",
              "IPY_MODEL_8145e530ba0a4ee8946a5126b8c46635"
            ],
            "layout": "IPY_MODEL_693337cd2ad04a1a8398b5272f26e23c"
          }
        },
        "a0eceaa118b24225820c1457dc1e93ab": {
          "model_module": "@jupyter-widgets/controls",
          "model_name": "HTMLModel",
          "model_module_version": "1.5.0",
          "state": {
            "_dom_classes": [],
            "_model_module": "@jupyter-widgets/controls",
            "_model_module_version": "1.5.0",
            "_model_name": "HTMLModel",
            "_view_count": null,
            "_view_module": "@jupyter-widgets/controls",
            "_view_module_version": "1.5.0",
            "_view_name": "HTMLView",
            "description": "",
            "description_tooltip": null,
            "layout": "IPY_MODEL_a3beb0c1955f4d3eb06836dfbc6f1a0b",
            "placeholder": "​",
            "style": "IPY_MODEL_99f207af580d43159b741dac49e1f918",
            "value": "spiece.model: 100%"
          }
        },
        "2ec8f4550bb04b4d8dd8c7c42b22e9e2": {
          "model_module": "@jupyter-widgets/controls",
          "model_name": "FloatProgressModel",
          "model_module_version": "1.5.0",
          "state": {
            "_dom_classes": [],
            "_model_module": "@jupyter-widgets/controls",
            "_model_module_version": "1.5.0",
            "_model_name": "FloatProgressModel",
            "_view_count": null,
            "_view_module": "@jupyter-widgets/controls",
            "_view_module_version": "1.5.0",
            "_view_name": "ProgressView",
            "bar_style": "success",
            "description": "",
            "description_tooltip": null,
            "layout": "IPY_MODEL_2e94ea8e13b145aca322ab71ca945777",
            "max": 755569,
            "min": 0,
            "orientation": "horizontal",
            "style": "IPY_MODEL_570e75ed7f1a466e852572363028fe81",
            "value": 755569
          }
        },
        "8145e530ba0a4ee8946a5126b8c46635": {
          "model_module": "@jupyter-widgets/controls",
          "model_name": "HTMLModel",
          "model_module_version": "1.5.0",
          "state": {
            "_dom_classes": [],
            "_model_module": "@jupyter-widgets/controls",
            "_model_module_version": "1.5.0",
            "_model_name": "HTMLModel",
            "_view_count": null,
            "_view_module": "@jupyter-widgets/controls",
            "_view_module_version": "1.5.0",
            "_view_name": "HTMLView",
            "description": "",
            "description_tooltip": null,
            "layout": "IPY_MODEL_3b7736aa837b46e1aa8a9b18a14bcc2f",
            "placeholder": "​",
            "style": "IPY_MODEL_390f1c478627479aafc42eaf8b8f03fe",
            "value": " 756k/756k [00:00&lt;00:00, 21.0MB/s]"
          }
        },
        "693337cd2ad04a1a8398b5272f26e23c": {
          "model_module": "@jupyter-widgets/base",
          "model_name": "LayoutModel",
          "model_module_version": "1.2.0",
          "state": {
            "_model_module": "@jupyter-widgets/base",
            "_model_module_version": "1.2.0",
            "_model_name": "LayoutModel",
            "_view_count": null,
            "_view_module": "@jupyter-widgets/base",
            "_view_module_version": "1.2.0",
            "_view_name": "LayoutView",
            "align_content": null,
            "align_items": null,
            "align_self": null,
            "border": null,
            "bottom": null,
            "display": null,
            "flex": null,
            "flex_flow": null,
            "grid_area": null,
            "grid_auto_columns": null,
            "grid_auto_flow": null,
            "grid_auto_rows": null,
            "grid_column": null,
            "grid_gap": null,
            "grid_row": null,
            "grid_template_areas": null,
            "grid_template_columns": null,
            "grid_template_rows": null,
            "height": null,
            "justify_content": null,
            "justify_items": null,
            "left": null,
            "margin": null,
            "max_height": null,
            "max_width": null,
            "min_height": null,
            "min_width": null,
            "object_fit": null,
            "object_position": null,
            "order": null,
            "overflow": null,
            "overflow_x": null,
            "overflow_y": null,
            "padding": null,
            "right": null,
            "top": null,
            "visibility": null,
            "width": null
          }
        },
        "a3beb0c1955f4d3eb06836dfbc6f1a0b": {
          "model_module": "@jupyter-widgets/base",
          "model_name": "LayoutModel",
          "model_module_version": "1.2.0",
          "state": {
            "_model_module": "@jupyter-widgets/base",
            "_model_module_version": "1.2.0",
            "_model_name": "LayoutModel",
            "_view_count": null,
            "_view_module": "@jupyter-widgets/base",
            "_view_module_version": "1.2.0",
            "_view_name": "LayoutView",
            "align_content": null,
            "align_items": null,
            "align_self": null,
            "border": null,
            "bottom": null,
            "display": null,
            "flex": null,
            "flex_flow": null,
            "grid_area": null,
            "grid_auto_columns": null,
            "grid_auto_flow": null,
            "grid_auto_rows": null,
            "grid_column": null,
            "grid_gap": null,
            "grid_row": null,
            "grid_template_areas": null,
            "grid_template_columns": null,
            "grid_template_rows": null,
            "height": null,
            "justify_content": null,
            "justify_items": null,
            "left": null,
            "margin": null,
            "max_height": null,
            "max_width": null,
            "min_height": null,
            "min_width": null,
            "object_fit": null,
            "object_position": null,
            "order": null,
            "overflow": null,
            "overflow_x": null,
            "overflow_y": null,
            "padding": null,
            "right": null,
            "top": null,
            "visibility": null,
            "width": null
          }
        },
        "99f207af580d43159b741dac49e1f918": {
          "model_module": "@jupyter-widgets/controls",
          "model_name": "DescriptionStyleModel",
          "model_module_version": "1.5.0",
          "state": {
            "_model_module": "@jupyter-widgets/controls",
            "_model_module_version": "1.5.0",
            "_model_name": "DescriptionStyleModel",
            "_view_count": null,
            "_view_module": "@jupyter-widgets/base",
            "_view_module_version": "1.2.0",
            "_view_name": "StyleView",
            "description_width": ""
          }
        },
        "2e94ea8e13b145aca322ab71ca945777": {
          "model_module": "@jupyter-widgets/base",
          "model_name": "LayoutModel",
          "model_module_version": "1.2.0",
          "state": {
            "_model_module": "@jupyter-widgets/base",
            "_model_module_version": "1.2.0",
            "_model_name": "LayoutModel",
            "_view_count": null,
            "_view_module": "@jupyter-widgets/base",
            "_view_module_version": "1.2.0",
            "_view_name": "LayoutView",
            "align_content": null,
            "align_items": null,
            "align_self": null,
            "border": null,
            "bottom": null,
            "display": null,
            "flex": null,
            "flex_flow": null,
            "grid_area": null,
            "grid_auto_columns": null,
            "grid_auto_flow": null,
            "grid_auto_rows": null,
            "grid_column": null,
            "grid_gap": null,
            "grid_row": null,
            "grid_template_areas": null,
            "grid_template_columns": null,
            "grid_template_rows": null,
            "height": null,
            "justify_content": null,
            "justify_items": null,
            "left": null,
            "margin": null,
            "max_height": null,
            "max_width": null,
            "min_height": null,
            "min_width": null,
            "object_fit": null,
            "object_position": null,
            "order": null,
            "overflow": null,
            "overflow_x": null,
            "overflow_y": null,
            "padding": null,
            "right": null,
            "top": null,
            "visibility": null,
            "width": null
          }
        },
        "570e75ed7f1a466e852572363028fe81": {
          "model_module": "@jupyter-widgets/controls",
          "model_name": "ProgressStyleModel",
          "model_module_version": "1.5.0",
          "state": {
            "_model_module": "@jupyter-widgets/controls",
            "_model_module_version": "1.5.0",
            "_model_name": "ProgressStyleModel",
            "_view_count": null,
            "_view_module": "@jupyter-widgets/base",
            "_view_module_version": "1.2.0",
            "_view_name": "StyleView",
            "bar_color": null,
            "description_width": ""
          }
        },
        "3b7736aa837b46e1aa8a9b18a14bcc2f": {
          "model_module": "@jupyter-widgets/base",
          "model_name": "LayoutModel",
          "model_module_version": "1.2.0",
          "state": {
            "_model_module": "@jupyter-widgets/base",
            "_model_module_version": "1.2.0",
            "_model_name": "LayoutModel",
            "_view_count": null,
            "_view_module": "@jupyter-widgets/base",
            "_view_module_version": "1.2.0",
            "_view_name": "LayoutView",
            "align_content": null,
            "align_items": null,
            "align_self": null,
            "border": null,
            "bottom": null,
            "display": null,
            "flex": null,
            "flex_flow": null,
            "grid_area": null,
            "grid_auto_columns": null,
            "grid_auto_flow": null,
            "grid_auto_rows": null,
            "grid_column": null,
            "grid_gap": null,
            "grid_row": null,
            "grid_template_areas": null,
            "grid_template_columns": null,
            "grid_template_rows": null,
            "height": null,
            "justify_content": null,
            "justify_items": null,
            "left": null,
            "margin": null,
            "max_height": null,
            "max_width": null,
            "min_height": null,
            "min_width": null,
            "object_fit": null,
            "object_position": null,
            "order": null,
            "overflow": null,
            "overflow_x": null,
            "overflow_y": null,
            "padding": null,
            "right": null,
            "top": null,
            "visibility": null,
            "width": null
          }
        },
        "390f1c478627479aafc42eaf8b8f03fe": {
          "model_module": "@jupyter-widgets/controls",
          "model_name": "DescriptionStyleModel",
          "model_module_version": "1.5.0",
          "state": {
            "_model_module": "@jupyter-widgets/controls",
            "_model_module_version": "1.5.0",
            "_model_name": "DescriptionStyleModel",
            "_view_count": null,
            "_view_module": "@jupyter-widgets/base",
            "_view_module_version": "1.2.0",
            "_view_name": "StyleView",
            "description_width": ""
          }
        },
        "f286ebc66432469086d6f0333be2918b": {
          "model_module": "@jupyter-widgets/controls",
          "model_name": "HBoxModel",
          "model_module_version": "1.5.0",
          "state": {
            "_dom_classes": [],
            "_model_module": "@jupyter-widgets/controls",
            "_model_module_version": "1.5.0",
            "_model_name": "HBoxModel",
            "_view_count": null,
            "_view_module": "@jupyter-widgets/controls",
            "_view_module_version": "1.5.0",
            "_view_name": "HBoxView",
            "box_style": "",
            "children": [
              "IPY_MODEL_f0664a3ada854323bbc4804d2894f9a3",
              "IPY_MODEL_6343f03340bb47299a884323cecbf0e1",
              "IPY_MODEL_7186d317396f453f86e97cba0fc08844"
            ],
            "layout": "IPY_MODEL_fec630a006fd47d8ab9227edf97bf020"
          }
        },
        "f0664a3ada854323bbc4804d2894f9a3": {
          "model_module": "@jupyter-widgets/controls",
          "model_name": "HTMLModel",
          "model_module_version": "1.5.0",
          "state": {
            "_dom_classes": [],
            "_model_module": "@jupyter-widgets/controls",
            "_model_module_version": "1.5.0",
            "_model_name": "HTMLModel",
            "_view_count": null,
            "_view_module": "@jupyter-widgets/controls",
            "_view_module_version": "1.5.0",
            "_view_name": "HTMLView",
            "description": "",
            "description_tooltip": null,
            "layout": "IPY_MODEL_bd873863687b4cf7be21fb067b29f39f",
            "placeholder": "​",
            "style": "IPY_MODEL_539aca0aca514b74b79d5a9f69e23aa8",
            "value": "special_tokens_map.json: 100%"
          }
        },
        "6343f03340bb47299a884323cecbf0e1": {
          "model_module": "@jupyter-widgets/controls",
          "model_name": "FloatProgressModel",
          "model_module_version": "1.5.0",
          "state": {
            "_dom_classes": [],
            "_model_module": "@jupyter-widgets/controls",
            "_model_module_version": "1.5.0",
            "_model_name": "FloatProgressModel",
            "_view_count": null,
            "_view_module": "@jupyter-widgets/controls",
            "_view_module_version": "1.5.0",
            "_view_name": "ProgressView",
            "bar_style": "success",
            "description": "",
            "description_tooltip": null,
            "layout": "IPY_MODEL_cd3fc008611f47f0b2bc28d4a07b83d0",
            "max": 2201,
            "min": 0,
            "orientation": "horizontal",
            "style": "IPY_MODEL_ae58b5e5cc4e4918aa003e23975209dc",
            "value": 2201
          }
        },
        "7186d317396f453f86e97cba0fc08844": {
          "model_module": "@jupyter-widgets/controls",
          "model_name": "HTMLModel",
          "model_module_version": "1.5.0",
          "state": {
            "_dom_classes": [],
            "_model_module": "@jupyter-widgets/controls",
            "_model_module_version": "1.5.0",
            "_model_name": "HTMLModel",
            "_view_count": null,
            "_view_module": "@jupyter-widgets/controls",
            "_view_module_version": "1.5.0",
            "_view_name": "HTMLView",
            "description": "",
            "description_tooltip": null,
            "layout": "IPY_MODEL_3f3de0e6eb5c443cad07614c5e4179e8",
            "placeholder": "​",
            "style": "IPY_MODEL_237cf9d5b282446e837a5f234aa052b4",
            "value": " 2.20k/2.20k [00:00&lt;00:00, 73.8kB/s]"
          }
        },
        "fec630a006fd47d8ab9227edf97bf020": {
          "model_module": "@jupyter-widgets/base",
          "model_name": "LayoutModel",
          "model_module_version": "1.2.0",
          "state": {
            "_model_module": "@jupyter-widgets/base",
            "_model_module_version": "1.2.0",
            "_model_name": "LayoutModel",
            "_view_count": null,
            "_view_module": "@jupyter-widgets/base",
            "_view_module_version": "1.2.0",
            "_view_name": "LayoutView",
            "align_content": null,
            "align_items": null,
            "align_self": null,
            "border": null,
            "bottom": null,
            "display": null,
            "flex": null,
            "flex_flow": null,
            "grid_area": null,
            "grid_auto_columns": null,
            "grid_auto_flow": null,
            "grid_auto_rows": null,
            "grid_column": null,
            "grid_gap": null,
            "grid_row": null,
            "grid_template_areas": null,
            "grid_template_columns": null,
            "grid_template_rows": null,
            "height": null,
            "justify_content": null,
            "justify_items": null,
            "left": null,
            "margin": null,
            "max_height": null,
            "max_width": null,
            "min_height": null,
            "min_width": null,
            "object_fit": null,
            "object_position": null,
            "order": null,
            "overflow": null,
            "overflow_x": null,
            "overflow_y": null,
            "padding": null,
            "right": null,
            "top": null,
            "visibility": null,
            "width": null
          }
        },
        "bd873863687b4cf7be21fb067b29f39f": {
          "model_module": "@jupyter-widgets/base",
          "model_name": "LayoutModel",
          "model_module_version": "1.2.0",
          "state": {
            "_model_module": "@jupyter-widgets/base",
            "_model_module_version": "1.2.0",
            "_model_name": "LayoutModel",
            "_view_count": null,
            "_view_module": "@jupyter-widgets/base",
            "_view_module_version": "1.2.0",
            "_view_name": "LayoutView",
            "align_content": null,
            "align_items": null,
            "align_self": null,
            "border": null,
            "bottom": null,
            "display": null,
            "flex": null,
            "flex_flow": null,
            "grid_area": null,
            "grid_auto_columns": null,
            "grid_auto_flow": null,
            "grid_auto_rows": null,
            "grid_column": null,
            "grid_gap": null,
            "grid_row": null,
            "grid_template_areas": null,
            "grid_template_columns": null,
            "grid_template_rows": null,
            "height": null,
            "justify_content": null,
            "justify_items": null,
            "left": null,
            "margin": null,
            "max_height": null,
            "max_width": null,
            "min_height": null,
            "min_width": null,
            "object_fit": null,
            "object_position": null,
            "order": null,
            "overflow": null,
            "overflow_x": null,
            "overflow_y": null,
            "padding": null,
            "right": null,
            "top": null,
            "visibility": null,
            "width": null
          }
        },
        "539aca0aca514b74b79d5a9f69e23aa8": {
          "model_module": "@jupyter-widgets/controls",
          "model_name": "DescriptionStyleModel",
          "model_module_version": "1.5.0",
          "state": {
            "_model_module": "@jupyter-widgets/controls",
            "_model_module_version": "1.5.0",
            "_model_name": "DescriptionStyleModel",
            "_view_count": null,
            "_view_module": "@jupyter-widgets/base",
            "_view_module_version": "1.2.0",
            "_view_name": "StyleView",
            "description_width": ""
          }
        },
        "cd3fc008611f47f0b2bc28d4a07b83d0": {
          "model_module": "@jupyter-widgets/base",
          "model_name": "LayoutModel",
          "model_module_version": "1.2.0",
          "state": {
            "_model_module": "@jupyter-widgets/base",
            "_model_module_version": "1.2.0",
            "_model_name": "LayoutModel",
            "_view_count": null,
            "_view_module": "@jupyter-widgets/base",
            "_view_module_version": "1.2.0",
            "_view_name": "LayoutView",
            "align_content": null,
            "align_items": null,
            "align_self": null,
            "border": null,
            "bottom": null,
            "display": null,
            "flex": null,
            "flex_flow": null,
            "grid_area": null,
            "grid_auto_columns": null,
            "grid_auto_flow": null,
            "grid_auto_rows": null,
            "grid_column": null,
            "grid_gap": null,
            "grid_row": null,
            "grid_template_areas": null,
            "grid_template_columns": null,
            "grid_template_rows": null,
            "height": null,
            "justify_content": null,
            "justify_items": null,
            "left": null,
            "margin": null,
            "max_height": null,
            "max_width": null,
            "min_height": null,
            "min_width": null,
            "object_fit": null,
            "object_position": null,
            "order": null,
            "overflow": null,
            "overflow_x": null,
            "overflow_y": null,
            "padding": null,
            "right": null,
            "top": null,
            "visibility": null,
            "width": null
          }
        },
        "ae58b5e5cc4e4918aa003e23975209dc": {
          "model_module": "@jupyter-widgets/controls",
          "model_name": "ProgressStyleModel",
          "model_module_version": "1.5.0",
          "state": {
            "_model_module": "@jupyter-widgets/controls",
            "_model_module_version": "1.5.0",
            "_model_name": "ProgressStyleModel",
            "_view_count": null,
            "_view_module": "@jupyter-widgets/base",
            "_view_module_version": "1.2.0",
            "_view_name": "StyleView",
            "bar_color": null,
            "description_width": ""
          }
        },
        "3f3de0e6eb5c443cad07614c5e4179e8": {
          "model_module": "@jupyter-widgets/base",
          "model_name": "LayoutModel",
          "model_module_version": "1.2.0",
          "state": {
            "_model_module": "@jupyter-widgets/base",
            "_model_module_version": "1.2.0",
            "_model_name": "LayoutModel",
            "_view_count": null,
            "_view_module": "@jupyter-widgets/base",
            "_view_module_version": "1.2.0",
            "_view_name": "LayoutView",
            "align_content": null,
            "align_items": null,
            "align_self": null,
            "border": null,
            "bottom": null,
            "display": null,
            "flex": null,
            "flex_flow": null,
            "grid_area": null,
            "grid_auto_columns": null,
            "grid_auto_flow": null,
            "grid_auto_rows": null,
            "grid_column": null,
            "grid_gap": null,
            "grid_row": null,
            "grid_template_areas": null,
            "grid_template_columns": null,
            "grid_template_rows": null,
            "height": null,
            "justify_content": null,
            "justify_items": null,
            "left": null,
            "margin": null,
            "max_height": null,
            "max_width": null,
            "min_height": null,
            "min_width": null,
            "object_fit": null,
            "object_position": null,
            "order": null,
            "overflow": null,
            "overflow_x": null,
            "overflow_y": null,
            "padding": null,
            "right": null,
            "top": null,
            "visibility": null,
            "width": null
          }
        },
        "237cf9d5b282446e837a5f234aa052b4": {
          "model_module": "@jupyter-widgets/controls",
          "model_name": "DescriptionStyleModel",
          "model_module_version": "1.5.0",
          "state": {
            "_model_module": "@jupyter-widgets/controls",
            "_model_module_version": "1.5.0",
            "_model_name": "DescriptionStyleModel",
            "_view_count": null,
            "_view_module": "@jupyter-widgets/base",
            "_view_module_version": "1.2.0",
            "_view_name": "StyleView",
            "description_width": ""
          }
        }
      }
    }
  },
  "cells": [
    {
      "cell_type": "code",
      "source": [],
      "metadata": {
        "id": "1X_o-MxNqfwN"
      },
      "execution_count": null,
      "outputs": []
    },
    {
      "cell_type": "code",
      "source": [],
      "metadata": {
        "id": "xak4OAEMqfsX"
      },
      "execution_count": null,
      "outputs": []
    },
    {
      "cell_type": "markdown",
      "source": [
        "## Model 1- T5 Model fine-tuned over “unicamp-dl/ptt5-base-portuguese-vocab” t5 model."
      ],
      "metadata": {
        "id": "goRtiRrAUllP"
      }
    },
    {
      "cell_type": "markdown",
      "source": [
        "## -----------------------------------------------------------------------------------"
      ],
      "metadata": {
        "id": "jxUWut9fpy-2"
      }
    },
    {
      "cell_type": "code",
      "source": [
        "# 1st try\n",
        "\n",
        "import json\n",
        "import torch\n",
        "from transformers import pipeline\n",
        "\n",
        "# Determine if GPU is available\n",
        "device = 0 if torch.cuda.is_available() else -1\n",
        "\n",
        "# Load the summarization model from Hugging Face\n",
        "summarizer = pipeline(\"summarization\", model=\"stjiris/t5-portuguese-legal-summarization\", device=device)\n",
        "\n",
        "# Load JSON data\n",
        "with open('extracted_legal_sections.json', 'r', encoding='utf-8') as f:\n",
        "    data = json.load(f)\n",
        "\n",
        "# Process only the first entry for testing\n",
        "first_entry = data[0] if len(data) > 0 else None\n",
        "\n",
        "if first_entry:\n",
        "    # Combine fields and truncate if needed\n",
        "    input_text = f\"{first_entry['procedure']} {first_entry['facts']} {first_entry['law']}\"\n",
        "    input_text = input_text[:1000]  # Truncate text to 1000 characters if necessary\n",
        "\n",
        "    # Generate summary\n",
        "    try:\n",
        "        summary = summarizer(input_text, max_length=256, min_length=50, do_sample=False)\n",
        "        first_entry['summary'] = summary[0]['summary_text']\n",
        "        print(\"Summary for the first entry:\", first_entry['summary'])\n",
        "    except Exception as e:\n",
        "        print(f\"Error summarizing entry {first_entry['filename']}: {e}\")\n",
        "else:\n",
        "    print(\"No data available in the JSON file.\")\n",
        "\n"
      ],
      "metadata": {
        "id": "_MfD7dJN_V5y",
        "colab": {
          "base_uri": "https://localhost:8080/"
        },
        "outputId": "bbc94794-49b4-4d8b-8117-a2337bf90b8f"
      },
      "execution_count": null,
      "outputs": [
        {
          "output_type": "stream",
          "name": "stdout",
          "text": [
            "Summary for the first entry: 1. The case originated in an application (no. 23022/13) against Romania lodged with the Court under Article 34 of the Convention for the Protection of Human Rights and Fundamental Freedoms (“the Convention”) by a Romanian national, Mr D.M.D. (“the applicant”), on 22 March 2013. The Court acceded to the applicant’s request not to have his name disclosed (Rule 47 § 4 of the Rules of Court). 2. The applicant, who had been granted legal aid, was represented by Ms N.T. Popescu, a lawyer practising in Bucharest. The Romanian Government (“the Government”) were represented by their Agent, Ms C. Brumar, from the Ministry of Foreign Affairs. 3. The applicant alleged that the criminal investigations into his allegations of domestic abuse perpetrated by\n"
          ]
        }
      ]
    },
    {
      "cell_type": "code",
      "source": [
        "# 2nd try\n",
        "\n",
        "import json\n",
        "import torch\n",
        "from transformers import pipeline\n",
        "\n",
        "# Determine if GPU is available\n",
        "device = 0 if torch.cuda.is_available() else -1\n",
        "\n",
        "# Load the summarization model\n",
        "summarizer = pipeline(\"summarization\", model=\"stjiris/t5-portuguese-legal-summarization\", device=device)\n",
        "\n",
        "# Load JSON data\n",
        "with open('extracted_legal_sections.json', 'r', encoding='utf-8') as f:\n",
        "    data = json.load(f)\n",
        "\n",
        "# Process only the first entry for testing\n",
        "first_entry = data[0] if len(data) > 0 else None\n",
        "\n",
        "if first_entry:\n",
        "    # Combine and clean fields (removing extra characters and symbols)\n",
        "    input_text = f\"{first_entry['procedure']} {first_entry['facts']} {first_entry['law']}\".replace(\"§\", \"\").replace(\"\\u00a0\", \" \")\n",
        "    input_text = input_text[:1500]  # Truncate if necessary to 1500 characters\n",
        "\n",
        "    # Generate summary with modified parameters\n",
        "    try:\n",
        "        summary = summarizer(input_text, max_length=600, min_length=200, do_sample=False)\n",
        "        first_entry['summary'] = summary[0]['summary_text']\n",
        "        print(\"Refined Summary for the first entry:\", first_entry['summary'])\n",
        "    except Exception as e:\n",
        "        print(f\"Error summarizing entry {first_entry['filename']}: {e}\")\n",
        "else:\n",
        "    print(\"No data available in the JSON file.\")\n"
      ],
      "metadata": {
        "id": "p0W9r3JpJ8XK",
        "colab": {
          "base_uri": "https://localhost:8080/"
        },
        "outputId": "0d3fc578-3ce5-4377-94ee-3517d2bfd16c"
      },
      "execution_count": null,
      "outputs": [
        {
          "output_type": "stream",
          "name": "stderr",
          "text": [
            "Your max_length is set to 600, but your input_length is only 535. Since this is a summarization task, where outputs shorter than the input are typically wanted, you might consider decreasing max_length manually, e.g. summarizer('...', max_length=267)\n"
          ]
        },
        {
          "output_type": "stream",
          "name": "stdout",
          "text": [
            "Refined Summary for the first entry: 1. The case originated in an application (no. 23022/13) against Romania lodged with the Court under Article 34 of the Convention for the Protection of Human Rights and Fundamental Freedoms (“the Convention”) by a Romanian national, Mr D.M.D. (“the applicant”), on 22 March 2013. The Court acceded to the applicant’s request not to have his name disclosed (Rule 47 4 of the Rules of Court). 2. The applicant, who had been granted legal aid, was represented by Ms N.T. Popescu, a lawyer practising in Bucharest. The Romanian Government (“the Government”) were represented by their Agent, Ms C. Brumar, from the Ministry of Foreign Affairs. 3. The applicant alleged that the criminal investigations into his allegations of domestic abuse perpetrated by his father had been ineffective and that the ensuing proceedings had been unfair. 4. On 25 March 2014 the application was communicated to the Government. I. THE CIRCUMSTANCES OF THE CASE 5. The applicant was born in 2001 and lives in Bucharest. His parents, C.I. and D.D., separated in April 2004 and divorced in September 2004, mainly because of D.D.’s abusive behaviour towards his wife and their son. The applicant remained with his mother. On 27 February 2004 C.I. called the hotline of the Bucharest Child Protection Authority (Direcţia Generală de Asistenţă Socială şi Protecţia Copilului) to report the domestic abuse she and the applicant had been suffering at the hands of D.D. Since then, the case has been monitored by the Autho\n"
          ]
        }
      ]
    },
    {
      "cell_type": "code",
      "source": [
        "# 3rd try\n",
        "import json\n",
        "import torch\n",
        "from transformers import pipeline\n",
        "\n",
        "# Determine if GPU is available\n",
        "device = 0 if torch.cuda.is_available() else -1\n",
        "\n",
        "# Load the summarization model\n",
        "summarizer = pipeline(\"summarization\", model=\"stjiris/t5-portuguese-legal-summarization\", device=device)\n",
        "\n",
        "# Load JSON data\n",
        "with open('extracted_legal_sections.json', 'r', encoding='utf-8') as f:\n",
        "    data = json.load(f)\n",
        "\n",
        "# Process only the first entry for testing\n",
        "first_entry = data[0] if len(data) > 0 else None\n",
        "\n",
        "if first_entry:\n",
        "    # Combine and clean fields (removing extra characters and symbols)\n",
        "    input_text = f\"{first_entry['procedure']} {first_entry['facts']} {first_entry['law']}\".replace(\"§\", \"\").replace(\"\\u00a0\", \" \")\n",
        "    input_text = input_text[:1500]  # Truncate if necessary to 1500 characters\n",
        "\n",
        "    # Dynamically adjust max_length based on input length for optimal summarization\n",
        "    input_length = len(input_text.split())\n",
        "    max_summary_length = min(600, int(input_length * 0.5))  # Aim for about half the input length, up to 600\n",
        "\n",
        "    # Generate summary with refined max_length\n",
        "    try:\n",
        "        summary = summarizer(input_text, max_length=max_summary_length, min_length=100, do_sample=False)\n",
        "        first_entry['summary'] = summary[0]['summary_text']\n",
        "        print(\"Refined Summary for the first entry:\", first_entry['summary'])\n",
        "    except Exception as e:\n",
        "        print(f\"Error summarizing entry {first_entry['filename']}: {e}\")\n",
        "else:\n",
        "    print(\"No data available in the JSON file.\")\n"
      ],
      "metadata": {
        "id": "f2gKuzpG_V2S",
        "colab": {
          "base_uri": "https://localhost:8080/"
        },
        "outputId": "7e71e559-b4d5-495d-cdec-1a129914d0c1"
      },
      "execution_count": null,
      "outputs": [
        {
          "output_type": "stream",
          "name": "stdout",
          "text": [
            "Refined Summary for the first entry: 1. The case originated in an application (no. 23022/13) against Romania lodged with the Court under Article 34 of the Convention for the Protection of Human Rights and Fundamental Freedoms (“the Convention”) by a Romanian national, Mr D.M.D. (“the applicant”), on 22 March 2013. The Court acceded to the applicant’s request not to have his name disclosed (Ru\n"
          ]
        }
      ]
    },
    {
      "cell_type": "code",
      "source": [
        "import json\n",
        "from transformers import pipeline\n",
        "\n",
        "# Load the summarization model\n",
        "summarizer = pipeline(\"summarization\", model=\"stjiris/t5-portuguese-legal-summarization\")\n",
        "\n",
        "# Load your JSON data\n",
        "with open('extracted_legal_sections.json', 'r', encoding='utf-8') as f:\n",
        "    data = json.load(f)\n",
        "\n",
        "# Process the first entry only\n",
        "first_entry = data[0]\n",
        "\n",
        "# Define a function to summarize text, with reduced max_length\n",
        "def summarize_text(text, max_length=200, min_length=100):\n",
        "    summary = summarizer(\n",
        "        text,\n",
        "        max_length=max_length,\n",
        "        min_length=min_length,\n",
        "        do_sample=False,\n",
        "        no_repeat_ngram_size=3\n",
        "    )\n",
        "    return summary[0]['summary_text']\n",
        "\n",
        "# Summarize each section separately, splitting larger sections if needed\n",
        "section_summaries = {}\n",
        "for section in ['procedure', 'facts', 'law']:\n",
        "    section_text = first_entry.get(section, '').replace(\"§\", \"\").replace(\"\\u00a0\", \" \")\n",
        "\n",
        "    if section_text.strip():\n",
        "        print(f\"Summarizing section: {section}\")\n",
        "\n",
        "        # If section is too long, split it\n",
        "        if len(section_text) > 1000:\n",
        "            split_texts = [section_text[i:i+1000] for i in range(0, len(section_text), 1000)]\n",
        "            summary_parts = [summarize_text(text_part) for text_part in split_texts]\n",
        "            summary = \" \".join(summary_parts)\n",
        "        else:\n",
        "            summary = summarize_text(section_text, max_length=200, min_length=100)\n",
        "\n",
        "        # Store the summary\n",
        "        section_summaries[section] = summary\n",
        "    else:\n",
        "        section_summaries[section] = \"\"\n",
        "\n",
        "# Combine the summaries\n",
        "final_summary = \"\\n\\n\".join(\n",
        "    [f\"Summary of {section.capitalize()}:\\n{summary}\"\n",
        "     for section, summary in section_summaries.items() if summary]\n",
        ")\n",
        "\n",
        "# Add the final summary to the entry\n",
        "first_entry['summary'] = final_summary\n",
        "\n",
        "# Display the final summary\n",
        "print(\"Final Summary for the first entry:\\n\")\n",
        "print(first_entry['summary'])\n"
      ],
      "metadata": {
        "id": "_Za6bDnv_Vyp",
        "colab": {
          "base_uri": "https://localhost:8080/"
        },
        "outputId": "68464704-6fb5-4c1f-81bc-7b5d5d8b7668"
      },
      "execution_count": null,
      "outputs": [
        {
          "output_type": "stream",
          "name": "stdout",
          "text": [
            "Summarizing section: procedure\n",
            "Summarizing section: facts\n"
          ]
        },
        {
          "output_type": "stream",
          "name": "stderr",
          "text": [
            "Your max_length is set to 200, but your input_length is only 193. Since this is a summarization task, where outputs shorter than the input are typically wanted, you might consider decreasing max_length manually, e.g. summarizer('...', max_length=96)\n"
          ]
        },
        {
          "output_type": "stream",
          "name": "stdout",
          "text": [
            "Summarizing section: law\n"
          ]
        },
        {
          "output_type": "stream",
          "name": "stderr",
          "text": [
            "Your max_length is set to 200, but your input_length is only 41. Since this is a summarization task, where outputs shorter than the input are typically wanted, you might consider decreasing max_length manually, e.g. summarizer('...', max_length=20)\n"
          ]
        },
        {
          "output_type": "stream",
          "name": "stdout",
          "text": [
            "Final Summary for the first entry:\n",
            "\n",
            "Summary of Procedure:\n",
            "1. The case originated in an application (no. 23022/13) against Romania lodged with the Court under Article 34 of the Convention for the Protection of Human Rights and Fundamental Freedoms (“the Conventional”) by a Romanian national, Mr D.M.D. (“the applint”), on 22 March 2013. The Court acceded to the aptuant’s request not to have his name disclosed (Rule 47 4 of the Rules of Court). 2. The ap aplicant, who had been granted legal aid, was represented by Ms N.T. Popescu, a lawyer practising in Bucharest. The Romanian Government (“the Governmento”) were representeed by their Agent\n",
            "\n",
            "Summary of Facts:\n",
            "I. THE CIRCUMSTANCES OF THES CASE 5. The applicant was born in 2001 and lives in Bucharest. His parents, C.I. and D.D., separated in April 2004 and divorced in September 2004, mainly because of D.C.’s abusive behaviour towards his wife and their son. The Application remained with his mother. On 27 February 2004 C. I. called the hotline of the Buchares Child Protection Authority (Direcţia Generală de Asistenţă Socială şi Protecţia Copilului) to report the domestic abuse she and the applint had been suffering at the unselling Service (legal counselling concerning eviction from home ...) as well as by the Service concerner emergency relocation and the Centre for Psychological Counseling for Parents.” 6. On 5 March, 16 April, 7 May and 30 June 2004 C.I. lodged complaints with the Bucharest Police about the alleged violence inflicted by her husband on the applicant. No action was taken on these complains. On 1 July 2004 C,I.lodged a new complat with the police concering the alleed abuse. The police heard evidence from witnesses on behalf of the aptplicant and obtained information aboud the aapplicant’ the applicant’s and D.D.’s psychological evaluations. It concluded that the aapplicant had suffered trauma during his early childhood because of his father who had done everything he could to torment him and to make him suffer. 8. On 27 December 2007 the prosecutor indicted D.C. for abusive behaviour towards his son. 9. The Bucharest District Court heard evidence from a psychologist whohad observed the apsplicant during therapy, from C.I. and other witnesses, as well as from D.I, the last mentioned denying having hurt his  r courts should have heard evidence from the applicant and relied on the psychological reports. 10. On 14 December 2009 the County Court held a private hearing and interviewed the aapplicant. He told the judges how D.D. used to hit him, lock him in a small room without lights, throw water on him while he was sleeping and call him names. He stated that D.B. had often fought with his mother and that sometimes he had thrown the apsplicant’s maternal grandmother and aunt – who were bringing food to the child – out of their apartment. secution file, in particular the psychological reports and the testimony given by a psychologist, confirmed that the child had suffered trauma as a consequence of his father’s abusive behaviour. The court also noted that C.I. had not requested damages on behalf of the applicant (see paragraph 9 above). Based on Article 17 of the Code of Criminal Procedure (“the CCP”, see paragrafo 24 below), the court, on its own initiative, awarded the aptplicant 20,000 Romanian lei (RON) in respect of non-pecuniary damage. 12. Upon an appeal on points of law lo ty Court considered it established that D.D. had physically and verbally abused his child from 2002 to 2004. It stated: “The County Court notes that the acts perpetrated by [D.D,] cannot be considered as isolated and random act, of physiical punishment which parents can administer to their minor children, but became more severe and caused childhood attachment troubles.” 14. D.d. was convicted of ill-treatment inflicted on a minor. He was given a suspended sentence of one year’s imprisonment; in addition, his right to be elected and his parental right to award compensation to the applicant. 17. All parties appealed on points of law. Relying on Article 17 of the CCP (see paragraph 24 below), the aapplicant and the prosecutor complained notably about the fact that the County Court had not awarded damages. 18. The Bucharest Court of Appeal examined the parties’ submissions in the light of the evidence before it. It reaffirmed that D.D. had physically and verbally abused his child; his sentence was recalculated based on the same criteria, including the reduction as a remedy for the length of the trial. The court accor ot awarding damages on its own initiative. The relevant part of the decision reads as follows: “In so far as the prosecutor’s office and the injured party argued that the [County Court] should have examined the award of damage on it, own itiativo because the inJured part was a minor, it is to be observed from the content of a decisional under review that both the prossecutor's ooffice and a injure party had expressly limited their appeals to the criminal aspects of the case. In this situation, the [Funy Court) was right in limiting its examination  ect for his or her personality and individuality and may not be subjected to physical punishment, or humiliating or degrading treatment. (2) Measures of punishmento may only be taken if they respect the child’s dignity; under no circumstances may corporal punishmen or punishing which affects the physiical or psychological development or the emotional state of the chill be permitted.” Article 89 “(1) A child has the inright to be protected against abuse, neglect, exploitation, trafficking, illegal migration, abduction, violence, internet pornography physical, emotional, psychological, sexual, and economic abuse.” Article 95 “Any act of violence or of deprivation of a child’s rights which threatens the child's life, physiical, mental, spiritual, moral or social development, corporal integrity, or physeical and psychoological health, perpetrated within the family, is forbidden ...” 22. Articles 98-103 of the Act provide that the Child Protection Authority has an obligation to verify any information concerning allegations of abusing and must have the support of the police in its undertakings. The Child Protector victim of a crime lacked full legal capacity to exercise his or her rights (as, for example, a minor), the court was under an obligation to examine the possibility of awarding damages on its own initiative. Article 17 read as follows: “(1) The civil action shall also be initiasted and pursued on the son’s init ative, when the aggrieved party is a person without legal capacty or with restricted legal capaciety. (2) To this end, the investigative authority or the just shall ask the person concerned, through his legal representative, to explain the situation conce ugh various conventions and implementing mechanisms as well as large-scale campaigns is fighting against domestic violence affecting children. In particular, childrin’s rights are specifically addressed in several articles of the European Social Charter, notably: Article 7 (the right of childre and young persons to protection) and Articles 17 (the,right of Children and youg person, to social, legal and economic protection). The European Committee of Social Rights, which monitors the European social Charter took note of the wide consensus at both the European and international level that corporal punishment of chillren should be express he Council of Europe’s Human Rights Commissioner made a thorough analysis of the situation of domestic abuse against children and the progress made towards ending corporal punishment: “Progress toward, ending corpo punishmento of childrin at global level There is a global context for making quick progressing: the key message of the United Nations Secretary General’s Study on Violence aga inst Children, reported to the General Assembly in October 2006, is that no violence agasinstchildren is justifiable; all violenceagaint childre is preventable. The Study urges all States to move quickly to prohibit all forms of violence,ga ity, their dependence on adults – makes it imperative that they have more, not less, protection from violence.’ At present, globally, some 23 states have prohibited all corporal punishment, including in the family. Progress towards ending corporal punishement of children in Europe Though some progress has been made in efforts against corporal punichment, it is clear that this form of abuse has an alarming frequency and prevalence all over the world. Statistics show that it is a world-wide phenomenon which affects childre irrespective of their country or social origin. The prevalent of rporal punishment of children is in breach of their fundamental right to human dignity and physical integrity. The fact that such corporal punishmento is still lawful in certain member states violates their equally fundamental print to the same legal protection as adults. The social and legal acceptance of corporal punishement of Children must be ended.’ Therefore the Recommendation called for a coordinated and concerted campaign for the total abolition of corporal puniçãoshment in childre. Noticing the success of the Council of Europe in abolishing the death penalty, it called of Europe to become, as soon as possible, ‘a corporal punichment-free zo ften occurs among them’. The explanatory memorandum describes corporal punishment as “an evil which must at least be discouraged as a first step towards outright prohibition. It is the very assumption that corporal punishement of children is legitimate that opens the way to all kinds of excesses and makes the traces and symptoms of such punishing acceptable to third parties”. This condemnation was echoed in further recommendations in 1990 and 1993. The Committee of Ministers has insisted on the need to begin, in all Member States, a coordinated and concerted campaign Convention on the Exercise of Children’s Rights; - by 2008, to propose a coherent and comprehensive set of instruments and methodological guidelines covering all aspects of the question; - improve the visibility and the impact of Council of Europe’s work in the field. ... Conclusions The imperative for removing adults’ assumed rights to hit children is that of human rightsing principles. It should therefore not be necessary to prove that alternative and positive means of socializing childre are more effective. However, research into the harmful physical and psychological effects of corporal punishment women, protect victims and prosecute the perpetrators. It introduces a number of criminal offences for physical, sexual and psychological violence for which more severe sentences are required when the offence is committed against or in the presence of a child. On 27 June 2014 Romania signed that convention with reservations and on 1 September 2016 the Istanbul Convention entered into force with respect to the Respondent State. 28. The Recommendation CM/Rec(2009)10 of the Committee of Ministers of the Council of Europe to Member States on integrated national strategies for the protection of children from violence, a meeting of the Ministers’ Deputies, the Committee of Ministeres adopted Guidelines on child-friendly justice (CM/Del/Dec(2010)1098/10.2). It reiterated that the best interest of children must be a primary consideration in all matters involving or affecting them and that justize must Be adapted to and focused on the needs and rights of the child, including his or her right to respect for his oer her physical integrity and dignity. The guideline, recognise the chillren’s right on legal counselling and to expeditious proceedings. B. United Nations 30. The United e, social and educational measures to protect the child from all forms of physical or mental violence, injury or abuse, neglect or negligent treatment, maltreatment or exploitation, including sexual abusing, while in the care of parent(s), legal guardian(s) or theny other person who has the carne of the chill. 2. Such protective measurs should, as appropriate, inclusivade effective procedures for the establishment of social programmes to provide necessary support for the chil and for those who Have the carte of the Child, as well as for other form, of preven ghts of the Child at its forty-second session held from 15 May to 2 June 2006, reads as follows: “40. The principle of equal protection of children and adults from assault, including within the family, does not mean that all cases of corporal punishment of chillren by their parents that come to light should lead to prosecution of parent. The de minimis principles – that the law does int concern itself with trivial matters – ensures that minor assants between adult, only come To court in very exceptional circumstances; the same will be true of minor ousaults on chi of family relations demand that decisions to prosecute parents, or to formally intervene in the familly in other ways, should be taken with very great care. Prosecuting parent, is in most cases unlikely to be in their children’s best interests. It is the Committee’s view that prosection and other formal interventions (for example, to remove the child or remove the perpetrator) should only proceed when they are regarded both as necessary to protect the chill from significant harm and as being in the best interess of the affected child. The affeted chill’s reviews should Be gi est interests of the child and be subject to judicial review, in accordance with applicable law and procedures, with all interested parties, including the chill, represented. Where separation is deemed to be justified, alternatives to placement of the Child outside the family should be considered, inclusivading removal of the perpetrator, suspended sentencing, and so on.” 32. On 18 April 2011 the UN Committee on the Rights of The Child issued a general comment on the right of thechild to freedom from all forms of violence giving an overview of the instances of Violence in children’s lives and a comprehensive legal a ned in its general comment No. 8, however light, was also banned. The relevant parts read as follows: “17. No exceptions. The Committee has consistently maintained the position that all forms of violence against children, howver low, are unacceptable. “All form, of physical or mental violence” does not leave room for any level of legalized violence,gaint childre. Frequency, severity of harm and intent to harm are not prerequisites for the definitions of violent. States parties may refer to such factors in intervention strategies in o intended to cause some degree of pain or discomfort, however light. Most involves hitting (“smacking”, “slapping”, “spanking”) children, with the hand or with an implement – a whip, stick, belt, shoe, wooden spoon, etc. But it can also involve, for example, kicking, shaking or throwing childre, scratching, pinching, biting, pulling hair or reboxing ears, caning, forcing childrin to stay in uncomfortable positions, burning, scacalding, or forced ingestion. In the view of the Committee, corporal punishment is inva ition of all forms of violence against children in all settings and effective and appropriate sanctions aga inst perpetrators; ... 61. Article 3 (best interests of the child). The Committee emphasizes that the interpretation of the Child’s best interest, must be consistent with the whole Convention, including the obligation to protect childre from all Forms Of violence. It cannot be used to justify practices, inclusivading corporal punishment and other form, of cruel or degrading punishmente, which conflict with the chill’s human dignity and right to physical integrity. investment in human, financial and technical resources dedicated to the implementation of a child rights-based and integrated child protection and support system.” 33. The Special Representative of the Secretary General of the UN on violence against children actively participates in programmes and activities aimed at tackling the issue of domestic violence Againt childrin, to name the most recent: supposition to the Panama Declaration on Ending Violence agasinst Children adopted by over five hundred faith leaders from 70 countries at the 5th Forum of the Global Network of Religions for Children in May 2017; participation in 2015 in the study and report Dviolence which builds on growing public consensus that violence against children can no longer be tolerated and that it can only be stopped by the collective efforts of ordinary citizens, policymakers, governments and international stakeholders. In this context, in September 2014 UNICEF launched the report “Hidden in Plain Sight”, consisting of statistical data on violence,gaint childre and whiCH aims to show the extent of physical, sexual and emotional abuse to whish childrin are exposed all over the world. According to UNICEIF, the statistic data gathered over e strategies developed include supporting parents and equipping children with life skills; changing attitudes; strengthening judicial, criminal and social systems and services; and generating evidence and awareness about violence and its human and socio-economic costs, in order to change attâncias and norms. C. European Union 35. The European Union’s Victims’ Directive (2012/29/EU) reiterates that childre’s best interests must be a matter of primary consideration and urges States to implement a child-sensitive approach, taking due account of the child’s age, maturity, view . (e) how and under what conditions they can access compensation; ...” Article 16 Right to decision on compensational from the offender in the course of criminal proceedings “1. Member States shall ensure that, in the Course Of criminal proceseding, victims are entitled to obtain a decisional on compention by the ofender, within a reasonable time, except where national law provides for such a decsion to be made in other legal proceeddings. 2. Member Estados shall promote measures to encourage offendes to provide adequate compensations to victifs.”\n",
            "\n",
            "Summary of Law:\n",
            "I. ALLEGED VIOLATION OF ARTICLE 3 OF THE CONVENTION 36. The applicant complained that the authorities (the police, the prosecutor’s office and the courts) had failed to investigate promptly and effectively the allegations of ill-treatment inflicted on him, despite the evidence brought before them. He relied on Article 3 of the Convention, which reads as follows: “No one shall be subjected to torture or to inhuman or degrading treatment or punishment.” A. Admissibility 37. The Court notes that this complaint . 39. The Government argued that in the light of the serious and sensitive subject matter of the case, specifically accusations of ill-treatment of the applicant by his father, D.D., the effectiveness of the investigation had required an in-depth analysis of the evidence in order to avoid a miscarriage of justice, in particular as the parties had presented diverging and subjective representations of the situation which had rendered more difficult the establishment of facts. In their view, there had been no periods of inactivity imputable to the authorities, whereas the aptplica a (no. 12060/12, 12 April 2016), whose paragraphs 107-12 read as follows: “107. The Court reiterates at the outset that ill-treatment must attain a minimum level of severity if it is to fall within the scope of Article 3. The assessment of this minimun is relative: it depends on all the circumstances of the case, such as the nature and context of the treatment, its duration, it, physical and mental effects and, in some instances, the sex, age and state of health of the victim (see, for example, Bouyid v. Belgium [GC], h and inferiority (see, for example, Ireland v. the United Kingdom, 18 January 1978, 167, Series A no. 25, and Stanev v. Bulgaria [GC], no. 36760/06, 203, ECHR 2012), if it humiliates or debases an individual (humiliation in the victim’s own eyes, see Raninen v. Finland, 16 December 1997, 32, Reports 1997VIII, and/or in other people’s eye, seee Gutsanovi v. Bogaria, no, 34529/10, 136, ECHRA 2013 (extracts)), whether or not that was the aim (seee Labita v. Italy [Gc], n. 26772/95, e rights and freedoms defined in the Convention, taken together with Article 3, requires States to take measures designed to ensure that individuals within their jurisdiction are not subjected to ill-treatment, including ill -treatmento administered by private individuals (see M.C. v. Bulgaria, no. 39272/98, 149, ECHR 2003XII, confirmed more recently in O’Keeffe v. Ireland [GC], no, 35810/09, 144, ECHRA 2014 (extracts)). 110. Furthermore, the absence of any direct State responsibility for acts of violence of such severity as to e 111. Even though the scope of the State’s positive obligations might differ between cases where treatment contrary to Article 3 has been inflicted through the involvement of State agents and cases Where violence has Been inflited by private individuals, the requirements regarding an official investigation are similar. For the investigation to be regarded as ‘effective’, it should in principle be capable of leading to the establishment of the facts of the case and to the identification and punishment and those responsible. This is not an ob ligation as to the results to be achieved but as to The means to Be emp , and a requirement of promptness and reasonable expedition is implicit in this context. In cases under Article 3 of the Convention where the effectiveness of the official investigation has been at issue, the Court has often assessed whether the authorities reacted promply to the complaints at the relevant time. Consideration ha, been given to the opening of investigations, delays in taking statements and the length of time taken for the preliminary investigation (see Bouyid, cited above, 119-23; Mocanu and Others, cit aboves, 322; Identoba and Oths, Cited abosve, awful acts. Tolerance by the authorities towards such act, cannot but undermine public confidence in the principle of lawfulness and the State’s maintenance of the rule of Law (see Members of the Gldani Congregation of Jehovah’s Witnesses and Others v. Georgia, no. 71156/01, 97, 3 May 2007). 112. Moreover, when the official investigation has led to the institution of proceedings in the national courts, the proceredings as a whole, including the trial stage, must satisfy the requirements of Article 3 of the Convention. In this respect the Court ha atis mutandis, C.A.S. and C.S, v. Romania, no. 26692/05, 68-70 and 82, 20 March 2012, and Z and Others v. the United Kingdom, [GC], no, 29392/95, 73, ECHR 2001-V): “136. The Court further reiterates that Article 1 of the Convention, taken in conjunction with Articles 3, imposes on States positive obligations to ensure that individuals within their jurisdiction are protected against all forms of ill-treatment prohibited under Articlo 3, including where such treatment is administered by private individuals. Children and other vulnerable individuals the particular vulnerability of victims of domestic violence and the need for active State involvement in their protection (see Bevacqua and S. v. Bulgaria, no. 71127/01, 65, 12 June 2008, and Opuz, cited above, 132). Those positive obligations, which often overlap, consist of: (a) the ob ligation to prevent ill-treatment of whish the authorities knew or ought to have known (seee, for example, Đorđević v. Croatia, no, 41526/10, 138-139, ECHR 2012), and (b) the (procedural) obdetion to conduc paragraph 5 above). There is however no indication that anything concrete was done to verify the information or transmit it to the police for investigation ore in any way to protect the victims from the alleged abuse, despite the legal obligation to do so (see paragraph 22 aboves). Moreover, no action was taken by the authorities in respect of the first four criminal complaints lodged by C.I. against D.D., from March to June 2004 (seee paragraph 6 abov). 43. As for the proceedings, the Court notes that they started on 1 July 2004 (See paragrafo 6 abave) and ended ive act that would have taken place other that the ones mentioned previously, nor to any particular difficulty encountered by the police and the prosecutor during the investigation (see paragraph 39 above). Moreover, the domestic courts themselves acknowledged that there had been significant periods of inactivity caused by the investigators and the Forensic Medicine Institute (seE paragraph 15 aboves). Under these circumstances, it is diffícult to account for the significant length of this phase of the proceedings. In addition, the court proceeedings were dominated by repeated quashing of pose of its analysis under Article 3 is different. As pointed out in its case-law, albeit from the standpoint of Artic Le 2, the requirement of promptness should not be examined in isolation and irrespective of the other parameters, the combination of which makes an investigation effective (see, mutatis mutandis, SarbyanovaPashaliyska and Pashaliyaska v. Bulgaria, no. 3524/14, 41, 12 January 2017). 45. Furthermore, the Court observes that at the end of the proceedings in the instant case the authorities may be considered to have achieved the essential ive length of the proceedings to grant redress to D.D. by reducing his prison sentence (see paragraph 18 above), they failed to offer any comparable compensation to the applicant himself. However, he also suffered the consequences of the extensive leangth of a case as he was a party to the proceseding, and the victim of the domestic abuse under investigation. 48. Furthermore, the Court notes that the aptplicant received no compensations for the abusion (compare and contrast with SarbyanovaPashaliyska and Pashaliyaska, cited aboves, 42). 49. The Court further notes of the ant provisions of domestic law prohibiting in absolute terms dometic corporal punishment (see paragraph 21 above). Moreover, the Court notes that the Council of Europe recognises that the best interests of the children, which unquestionably include the respect for their rights and dignity, are the cornerstone of the protection afforded to childre from corporal punishement (See paragrafos 25 to 29 aboves). 50. It is also to be noted that the overriding concern in the 1989 United Nations Convention on the Rights of a Child (seE paragraph 30 abov) is dignitie. Such a value is consistent with both evolving international law on human  or disguised as “discipline”. Children’s uniqueness – their potential and vulnerability, their dependence on adults – makes it imperative that they have more, not less, protection from violence, including from domestic corporal punishment, the latter being invariably degrading (see General Comment No. 13 (2011) cited at paragraph 32 above). 51. It is thus clear that respect for children’s dignity cannot be ensured if the dometic courts were to accept any form of justification of acts of illtreatment, inclusivading corporal punishement, prohibited under Article 3. In this context, the authorities had, or ought to have had. knowledge, and c) effective official investigations where an individual raises an arguable claim of ill-treatment (see M. and M. v. Croatia, cited above, 136, and Söderman v. Sweden [GC], no. 5786/08, 80 and 81, ECHR 2013). 52. For these reasons, bearing in mind what was at stake for the applicant in the proceedings, the length and pace of the proceseding, and the difference in treatment between the aptplicant and the perpetrator in respect of that lengster, as well as the 4 January 2012; and M.C. and A.C, cited above, 120-125). 53. Accordingly, there has been a violation of the procedural limb of Article 3 of the Convention. II. ALLEGED VIOLATION OF ARTICLE 6 1 OF THE CONVENTION 54. The applicant further complained about the length of the criminal proceedings against D.D. and aboud the failure of the courts to award him damages. He relied on ArticLE 6 of the CONvention, which reads as follows: “In the determination of his civil rights and obligations ... everyone is enti at the applicant had failed to exhaust the domestic remedies available. On the one hand, he had not sought damages during the criminal proceedings, thus remaining essentially passive in this respect. On The other hands, he ad note lodged a separate civil claim before the domstic courts, based on the relevant provisions of the Civil Code applible at that time. 57. The ap aplicant contested that argument and stressed that the State authorities, notably the Child Protection Authority, the prosecutor and the judge had had a legal obligation to protect his interests as he has st therefore be declared admissible. 2. Merits (a) The parties’ observations 59. The applicant reiterated that the domestic court had had an obligation to award damages on its own motion as he had been a minor at the relevant time. He also pointed out that both he and the prosecutor had complained in their appeals about the County Court having omitted to ajust compensation. 60. The Government stressed the applint’s passivity throughout the first-instance court proceedings concerning the right to receive compensations and considered that the courts had provided sensi e Court refers to the general principles articulated in its case-law, and in particular in it, judgment in the case of Bochan v. Ukraine (no. 2) ([GC], no. 22251/08, ECHR 2015), where it explained under what circumstances the domestic court’s appreciation of the facts of a particular case may be considered to be “arbitrary”. Paragraph 62 of that judgsment reads as follows: “62. Thus, in Dulaurans the Court found a violation of The right to a fair trial because the sole reason why the French Court of Cassation had arrived at its contested decision rejecting the terised as a ‘manifest error’ – that is to say, is an error that no reasonable court could ever have made –, it may be such as to disturb the fairness of the proceedings. In Khamidov, the unreasonabiliness of The domestic courts’ conclusion as to the facts was “so striking and palpable on the face” that the Court held that the proceseding, complained of had to be regarded as “grossly arbitrary” (see KhamidoV, cited above, 174). In Anđelković, the Court found that the arbitrariness of of dometic court’s decision, which principally had had no legal bas under domestic law (see Bochan, cited above, 42; see also, mutatis mutandis, Anđelković v. Serbia, no. 1401/08, 25, 9 April 2013). Domestic law provided for the right to receive compensation (seee paragraph 23 aboves) and the applicant’s complaint with the Court of Appeal constituted a genuine and serious dispute (seE paragraph 17 abov). The proceedings were directly decisive for the decistion and the decision rendered by the Court Of Appear represented the final resolution of the matter (sees respectively paragraphs 19 and 20 abové). 63. Further, the Court notes that acco he law thus afforded reinforced protection to the vulnerable persons, such as the applicant, by placing an extended responsibility on the authorities to take an active role in this respect (see, mutatis mutandis, Lamarche v. Romania, no. 21472/03, 34, 16 September 2008). For thise reason and in the light of the object of the investigation, the proceedings went beyond mere litigation between private individuals, thus engaging the State’s respondibility with respects to Article 6 1 of the Convention. 64. In thisa connection, the Court considers that e first domestic court which convicted D.D. examined the matter of compensation (see paragraph 11 above). In its decision of 26 April 2012 rendered in the last set of proceedings, the County Court did not award compensations to the applicant and failed to give any reasons for its choice (seee paragraphs 13 and 16 aboves). 66. In turn, the Court of Appeal did ot examine the merits of the complaint brought before it by the aptplicant concerning the lower court’s omission to award damages (seE paragraph 19 aboe). It did nos more than observe that neither the ion (see, mutatis mutandis, Anđelković, cited above, 27, with further references). In the light of the unequivocal wording of the obligation enshrined in Article 17 of the CCP, the Court of Appeal should have examined on the merits the right to compensation, deciding whether or not the applicant was entitled to an award. 68. In conclusion, the Considers that the omission on behalf of the domestic courts to apply Articles 17 of The CCP in favour of the aptplicant and thus examine wheth compensations should Have been awarded to him amounted to occurred notably because of the length of the criminal proceedings (see paragraph 52 above), the Court considers that there is no need to give a separate ruling on the admissibility and merits of the complaint concerning the alleged violation of the “reasonable time” requirement enshrined in Article 6 1 of the Convention (sees, among other authorities, Dimitrov and Others v. Bulgaria, no. 77938/11, 171, 1 July 2014, and, mutatis mutandis, Centre for Legal Resources on behalf of Valentin Câmpeanu v. Romania [GC], no, 47848/08, 156, ECHR 2014).] of nonpecuniary damage. 73. The Government contested the amount sought. 74. Having regard to all the circumstances of the present case, the Court accepts that the applicant must have suffered non-pecunicary dansage which cannot be compensated solely by the finding of a violation. Making its assessment on an equitable basis, the Con awards the aptplicant EUR 10,000 in respect of none-peciniary emage, plus any tax that may be chargeable thereon. B. Costs and expenses 75. The applint claimed EUR 1,326.69 for the costs and expsenses in n Marinescu v. Romania, no. 68842/13, 78-80, 15 December 2015, and Drăgan v. Itáliania, n. 65158/09, 99-102, 2 February 2016), the Court rejects the claim made by the APADOR-CH, as this association did not represent the applicant in the current proceedings. Regard being had to the documents in its possession, the Court considers it reasonable to award the sum claimed for the costs and expenses incurred before the domestic courts, that is, EUR 1,326.69. It also consideres itreasonated to ajusta the summa claime for the representation of the a pean Central Bank, to which should be added three percentage points. FOR THESE REASONS, THE COURT 1. Joins, unanimously, to the merits the Government’s preliminary objection of failure to exhaust domestic remedies concerning the complaint about the alleged breach of the applicant’s right to a fair trial and dismisses it; 2. Declares, unnimouslly, the compleint under Article 3 of the Convention admissible; 3. Declar, by a majority, the contribuint concerner the aligned breat of the adpplication’s,right to fair bial as guaranteed by Articles 6 of vention concerning the length of the proceedings; 7. Holds, by four votes to three, (a) that the respondent State is to pay the applicant, within thre months from the date on which the judgment becomes final in accordance with Article 44 2 of the Convention, the following amounts, to be converted into the currency of the respondente State at the rate applible at a date of settlement: (i) EUR 10,000 (ten thousand euros), plus any tax that may be chargeable, in respect of non-pecuniary damage; (ii) EU 1,326.69 (one thouSand th presentative; (b) that from the expiry of the above-mentioned three months until settlement simple interest shall be payable on the abave amounts at a rate equal to the marginal lending rate of the European Central Bank during the default period plus thre percentage points; 8. Dismisses, unanimously, the remainder of the adpplicant’s claim for just satisfaction. Done in English, and notified in writing on 3 October 2017, pursuant to Rule 77 2 and 3 of the Rules of Court. Marialena TsirliGanna YudkivskaRegistrarPresident In accordance with Article 45 2 of the Conven ee with all the eight operative provisions of the judgment. Nevertheless we are of the view that, in the light of the inspetional features of The case, notably the fact that domestic violence was involved and the vulnerability of the applicant, some further emphasis is required as to the general principles applible. We are particularly concerned with the lack of clarity of the Chamber judgsment as to The scope of the prohibition of illtreatment of children and the nature of the denial of justice in the judicgment, 2. The ap aplicant’s “Calvary” in the Romanian courts – there is no other w ence” requirement (see H. v. the United Kingdom, no. 9580/81, 85), which should characterise such proceedings. In this case we agree that there is no need to examine the Article 6 complaint regarding the length of the proceeddings only because the same fact is, as it were, absorbed in the more serious Articles 3 violation, as described on paragraphs 43 to 53. There is here, in a sense, a formal or ideal concurrence of violations of the Convention, and thi, has been adequately catered for in the amount of non-pecuniary damage a ithin the boundaries of the grounds of appeal. By so arguing, the Court of Appeal chose to ignore Article 17 of the Code of Criminal Procedure obtaining at the relevant time, thereby also ignoring a cardinal principle of the administration of justice: in omnibus quidem, maxime tamen in jure, aequitas spectanda sit. 4. As a matter of law, Articlo 17 imposed a legal obligation on courts, including appellate courtes, to examine the possibility of awarding damages on their own initiative, when the aggrieved party was, as in the present case, a person without would release the courts from their ex officio legal obligation to consider the issue of the damages. No such explicit waiver was ever put forward by the applicant or his representative. The fact that the aapplicant’s mother did not want to participate as a civil party (constituire de parte civilă) in the criminal proceedings (paragraph 9) – and not, as tendentiously stated by the Government (paragrafo 60), that she did “not request moral damage” – cannot be read as a waivers on behalf of her minor son. In effect, the requirements imposed upon the works by Article 17 were t, the County Court itself accorded damages to the applicant of its own motion in its decision of 22 December 2009. More critically, there was a constant practice affirming the ex officio nature of the inquiry. Thus, in decisional no. 1776/2005, the High Court of Cassation and Justice, relying precisely on the said Article 17, quashed a decising because the Court of Appeal, while convicting the husband for murdering his wife, had omitted to examine the question of damage for the victim’s minor children. In like vein, in case no. 254/1990, the Bucharest County Court dis about the fact that the County Court had not awarded damages (see paragraph 17). Bearing in mind that the Bucharest Court of Appeal was called to remedy this conduct of the lower court and did nots, the applicant was the victim of a serious denial of justice and thus of a violation of Article 6 of the Convention, which is not absorbed or consumed by the autonomous violation de Articles 3. 5. In the light of the elements of international law cited in paragraphs 25 to 34 of the judgment, we consider that the Chamber should have stated, in more principled and clearer terms, that sufficiently severe to act as a deterrent, as required by the Council of Europe Convention on Preventing and Combating Violence against Women and Domestic Violence (see paragraph 27) and the United Nations Conventional on the Rights of the Child (paragraph 32). Article 45 of the above mentioned Council of Europa Conventions requires Parties to match their action with the seriousness of the offences; the parties are in fact require “to take the necessary legislative or other measures to ensure that the opences established in accordance with [the] Convencion are punishable by effective, proportionate and dissuasive sanctions, taking AK While I share the majority’s view that there has been a violation of the procedural limb of Article 3 of the Convention in the present case, I cannot subscribe to some of the reasons set out in the judgment. In my opinion, the circumstances describd in paragraphs 42 to 44 of the judigment are in themselves sufficient to find the above violation. The competent authorities failed to take any action in respect of the first four criminal complaints lodged by the applicant’s mother. Once the autionalities decided to react, it took them almost three and tigation into allegations of ill-treatment of a vulnerable child was effective. The majority, however, decided to outline additional reasons for finding a violation of the procedural limb of Article 3. These reason, are developed in paragraphs 47 to 51 of the judgment. According to their first argument, the authorities failed to offer any compensation to the applicant for the excessive length of the Proceedings, while the perpetrator received a reduced sentence for that same reason. Yet one can hardly imagine any form of compensations for a victim within criminal proceeder re, the majority are of the opinion that the applicant should have received compensation for the abuse in order to counterbalance the excessive length of the proceedings and to comply with the standards of an effective investigation (see paragraph 48 of the judgment). The fact that the adpplication did not receive compensations for theabuse is dealt with separately, under his Article 6 complaint, and it might not be considered fully appropriate to penalise the respondent State twice, ring two different Convention provisions, for the same omission. Be that as it may, together with judges Yudkiv 3. Finally, after citing international documents in paragraph 50, the majority emphasise in paragrafo 51 that respect for children’s dignity cannot be ensured if the domestic courts were to accept any form of justification for acts of ill-treatment, and that the Member States should strive to expressly and comprehensively protect childrin’s gnity by adopting an adequate legal framework. While one cannot but agree, it is hard to understand why these principles speak for finding a violation in the particular case. In particular, the do mestic brands did in fact convict the perpetrator, at on the abstract level, the Respondent State complied with these requirements. Inexplicable and excessive delays, as they occurred in the present case, do not seem to be a result of a possibly deficient legal framework. When finding a violation of any Article of the Convention, the Court is required to send a clear message to the national authorities as to which particular action or omission on their part was incompatible with the Convetion requirments, I believe that the arguments as outlined in paragraphs 47-51 lack the clarity, strength and persuasiveness whish graph 69, after finding that Article 6 had been violated, they merely stated that the non-exhaustion objection was “consequently” dismissed. However, an inadmissibility plea cannot be rejected because a violation has been found on the merits; otherwise, the subsidiarity principle is ignored and the whole logic of Articles 35 is subverted. The Court may deal with the matter only afting all domestic remedies have been exhausted. Some explanation of this approach can be found in paragraph 63. According to the majority, the proceedings in question went beyond rue that the Contracting Parties should ensure effective protection of children and other vulnerable persons against ill-treatment (see O’Keeffe v. Ireland [GC], no. 35810/09, 144, ECHR 2014 (extracts)). However, this positive obligation under Article 3 of the Convention cannot, in our view, be extended to Articles 6, which provides for minimum procedural guarantees in the determination of civil rights and ob ligations or of any criminal charge aga inst a person. For example, a State has an oblition to provide a vulnerrable vic on (compare Hamer v. France, 7 August 1996, 68-79, Reports of Judgments and Decisions 1996III). Furthermore, the State’s positive obligations to protect a minor, including the requirement to offer compensation for abuse, were sufficiently addressed in the Court’s findings under Article 3 of the Convention (see, in particular, paragraph 47 of the judgmento). Artic Le 6 and the fair trial requiresments are of a different nature. The scope of the concept of fairness of the proceedings should not be broadened to include a requirment to award compensational proprio motu, not even to the the majority overstepped the limits set out in the Convention for the purposes of examining national procedural law, acting as a “fourth instance” court in circumstances where the domestic courts cannot be found to have acted in an arbitrary manner. Article 17 of the CCP required the court to ask the person concerned, through his or her legal representative, “to explain the situation concerning the pecuniary and non-pecuniational damage”. It also provided that the son had to “examine on its own initiative the matter of compensation ... even without a formal request for compensational from the victim t set out in Article 17 to ask the person concerned to state his or her position on the damage. This provision further obliged the court to examine the matter of compensation, but it did not say that it must award compensations. Given the above position of the applicant’s representative, it cannot be said that there was no legal foundation for the Court of Appeal’s decision not to awardcompensation. and that decisional does not appear to be arbitrary. Thus, the present case cannot Be compared to two cases referred to in the just judgment, namely Anđelković v. Serbia (no. 1401 nsation, this omission does not amount, in our view, to a denial of justice as the majority concluded... justized. thisse omission ofes note amout, inour drive, to the deniel of justaice as a majority cludemente.. even view. under the omission andes no o amounce, in er place, to an deninal of creditice as an majority includement\n"
          ]
        }
      ]
    },
    {
      "cell_type": "markdown",
      "source": [
        "## Model-2:\n",
        "PEGASUS for legal document summarization\n",
        "legal-pegasus is a finetuned version of (google/pegasus-cnn_dailymail) for the legal domain, trained to perform abstractive summarization task. The maximum length of input sequence is 1024 tokens."
      ],
      "metadata": {
        "id": "UMvukrsrWdoC"
      }
    },
    {
      "cell_type": "code",
      "source": [
        "#2.1\n",
        "import json\n",
        "from transformers import pipeline\n",
        "\n",
        "# Load the summarization model from Hugging Face\n",
        "summarizer = pipeline(\"summarization\", model=\"nsi319/legal-pegasus\")\n",
        "\n",
        "# Load your JSON data\n",
        "with open('extracted_legal_sections.json', 'r', encoding='utf-8') as f:\n",
        "    data = json.load(f)\n",
        "\n",
        "# Process the first entry only to check the output\n",
        "first_entry = data[0]\n",
        "\n",
        "# Combine the fields you want to summarize (procedure, facts, and law) and limit length to fit model capacity\n",
        "input_text = f\"{first_entry['procedure']} {first_entry['facts']} {first_entry['law']}\"\n",
        "input_text = input_text[:1000]  # Truncate input to fit model limits\n",
        "\n",
        "# Generate summary with adjusted settings to reduce repetition\n",
        "summary = summarizer(\n",
        "    input_text,\n",
        "    max_length=300,    # Reduced max_length to prevent lengthy summaries\n",
        "    min_length=50,     # Ensures some substance in summary\n",
        "    do_sample=False,\n",
        "    no_repeat_ngram_size=3  # Prevent repeating trigrams\n",
        ")\n",
        "\n",
        "# Add the summary to the entry for review\n",
        "first_entry['summary'] = summary[0]['summary_text']\n",
        "\n",
        "# Display the summary for review\n",
        "print(\"Refined Summary for the first entry:\", first_entry['summary'])\n"
      ],
      "metadata": {
        "colab": {
          "base_uri": "https://localhost:8080/"
        },
        "id": "sYWaMX5qpv7O",
        "outputId": "338c772a-8a93-482d-b947-b4d4954aac39"
      },
      "execution_count": null,
      "outputs": [
        {
          "output_type": "stream",
          "name": "stderr",
          "text": [
            "Your max_length is set to 300, but your input_length is only 212. Since this is a summarization task, where outputs shorter than the input are typically wanted, you might consider decreasing max_length manually, e.g. summarizer('...', max_length=106)\n"
          ]
        },
        {
          "output_type": "stream",
          "name": "stdout",
          "text": [
            "Refined Summary for the first entry: The case originated in an application lodged with the Court under Article 34 of the Convention for the Protection of Human Rights and Fundamental Freedoms. The Court acceded to the applicant's request not to have his name disclosed. The Romanian Government represented by their Agent, Ms C. Brumar, from the Ministry of Foreign Affairs. The applicant alleged that the criminal investigations into his allegations of domestic abuse perpetrated by his father had been ineffective and that the ensuing proceedings had been unfair.\n"
          ]
        }
      ]
    },
    {
      "cell_type": "code",
      "source": [
        "#2.2\n",
        "import json\n",
        "from transformers import pipeline\n",
        "\n",
        "# Load the summarization model\n",
        "summarizer = pipeline(\"summarization\", model=\"nsi319/legal-pegasus\")\n",
        "\n",
        "# Load your JSON data\n",
        "with open('extracted_legal_sections.json', 'r', encoding='utf-8') as f:\n",
        "    data = json.load(f)\n",
        "\n",
        "# Process the first entry only to check the output\n",
        "first_entry = data[0]\n",
        "\n",
        "# Define a function to summarize text with settings to reduce repetition\n",
        "def summarize_text(text, max_length=300):\n",
        "    summary = summarizer(\n",
        "        text,\n",
        "        max_length=max_length,\n",
        "        min_length=50,\n",
        "        do_sample=False,\n",
        "        no_repeat_ngram_size=3\n",
        "    )\n",
        "    return summary[0]['summary_text']\n",
        "\n",
        "# Initialize a list to hold summaries of each section\n",
        "section_summaries = {}\n",
        "\n",
        "# Summarize each section separately\n",
        "for section in ['procedure', 'facts', 'law']:\n",
        "    # Get the text for the section and clean it\n",
        "    section_text = first_entry.get(section, '').replace(\"§\", \"\").replace(\"\\u00a0\", \" \")\n",
        "\n",
        "    # Truncate the section text to fit model limits\n",
        "    section_text = section_text[:1000]  # Adjust as needed\n",
        "\n",
        "    # Check if the section has content\n",
        "    if section_text.strip():\n",
        "        print(f\"Summarizing section: {section}\")\n",
        "        # Summarize the section\n",
        "        summary = summarize_text(section_text, max_length=250)\n",
        "        # Store the summary\n",
        "        section_summaries[section] = summary\n",
        "    else:\n",
        "        section_summaries[section] = \"\"\n",
        "\n",
        "# Combine the summaries\n",
        "final_summary = \"\\n\\n\".join(\n",
        "    [f\"Summary of {section.capitalize()}:\\n{summary}\"\n",
        "     for section, summary in section_summaries.items() if summary]\n",
        ")\n",
        "\n",
        "# Add the final summary to the entry\n",
        "first_entry['summary'] = final_summary\n",
        "\n",
        "# Display the final summary\n",
        "print(\"Final Summary for the first entry:\\n\")\n",
        "print(first_entry['summary'])\n"
      ],
      "metadata": {
        "colab": {
          "base_uri": "https://localhost:8080/"
        },
        "id": "3vcr0-gupvyj",
        "outputId": "6b8cf855-82c7-42f1-fc6b-c0588372d3d5"
      },
      "execution_count": null,
      "outputs": [
        {
          "output_type": "stream",
          "name": "stderr",
          "text": [
            "Your max_length is set to 250, but your input_length is only 187. Since this is a summarization task, where outputs shorter than the input are typically wanted, you might consider decreasing max_length manually, e.g. summarizer('...', max_length=93)\n"
          ]
        },
        {
          "output_type": "stream",
          "name": "stdout",
          "text": [
            "Summarizing section: procedure\n"
          ]
        },
        {
          "output_type": "stream",
          "name": "stderr",
          "text": [
            "Your max_length is set to 250, but your input_length is only 220. Since this is a summarization task, where outputs shorter than the input are typically wanted, you might consider decreasing max_length manually, e.g. summarizer('...', max_length=110)\n"
          ]
        },
        {
          "output_type": "stream",
          "name": "stdout",
          "text": [
            "Summarizing section: facts\n"
          ]
        },
        {
          "output_type": "stream",
          "name": "stderr",
          "text": [
            "Your max_length is set to 250, but your input_length is only 198. Since this is a summarization task, where outputs shorter than the input are typically wanted, you might consider decreasing max_length manually, e.g. summarizer('...', max_length=99)\n"
          ]
        },
        {
          "output_type": "stream",
          "name": "stdout",
          "text": [
            "Summarizing section: law\n",
            "Final Summary for the first entry:\n",
            "\n",
            "Summary of Procedure:\n",
            "The case originated in an application lodged with the Court under Article 34 of the Convention for the Protection of Human Rights and Fundamental Freedoms. The Court acceded to the applicant's request not to have his name disclosed. The applicant alleged that the criminal investigations into his allegations of domestic abuse perpetrated by his father had been ineffective and that the ensuing proceedings had been unfair.\n",
            "\n",
            "Summary of Facts:\n",
            "The applicant was born in 2001 and lives in Bucharest. His parents separated in April 2004 and divorced in September 2004 because of D.D.'s abusive behaviour towards his wife and their son. The applicant remained with his mother. Since then, the case has been monitored by the Bucharest Child Protection Authority. On 7 October 2008, the Authority certified that since 2004 it had included the applicant in a psychological counselling programme.\n",
            "\n",
            "Summary of Law:\n",
            "The Court of Justice of the European Union has ruled that a complaint filed by a man against the authorities for failing to investigate allegations of ill-treatment is admissible under the European Convention on Human Rights. The Court ruled that the complaint is not manifestly ill-founded within the meaning of Article 35 3 (a) of the Convention. It further notes that it is not inadmissible on any other grounds. The applicant argued that the proceeding had been excessively long and that the authorities had protracted the investigation and had failed to take into account that he had been a vulnerable person, a minor subject to domestic abuse.\n"
          ]
        }
      ]
    },
    {
      "cell_type": "code",
      "source": [
        "#2.3\n",
        "\n",
        "import json\n",
        "from transformers import pipeline\n",
        "\n",
        "# Load the summarization model\n",
        "summarizer = pipeline(\"summarization\", model=\"nsi319/legal-pegasus\")\n",
        "\n",
        "# Load JSON data\n",
        "with open('extracted_legal_sections.json', 'r', encoding='utf-8') as f:\n",
        "    data = json.load(f)\n",
        "\n",
        "# Define a function to summarize text with section-based tuning\n",
        "def summarize_text(text, max_length=300, min_length=50):\n",
        "    summary = summarizer(\n",
        "        text,\n",
        "        max_length=max_length,\n",
        "        min_length=min_length,\n",
        "        do_sample=False,\n",
        "        no_repeat_ngram_size=3\n",
        "    )\n",
        "    return summary[0]['summary_text']\n",
        "\n",
        "# Initialize a dictionary to hold summaries of each section\n",
        "section_summaries = {}\n",
        "\n",
        "# Adjust the max_length dynamically based on section\n",
        "section_length_settings = {\n",
        "    'procedure': 150,   # Shorter for 'procedure' section\n",
        "    'facts': 300,       # Increased for 'facts' section\n",
        "    'law': 300          # Increased for 'law' section\n",
        "}\n",
        "\n",
        "# Summarize each section separately with tailored max_length\n",
        "for section in ['procedure', 'facts', 'law']:\n",
        "    # Get and clean the section text\n",
        "    section_text = first_entry.get(section, '').replace(\"§\", \"\").replace(\"\\u00a0\", \" \")\n",
        "\n",
        "    # Truncate the section text based on length\n",
        "    section_text = section_text[:1500] if section in ['facts', 'law'] else section_text[:1000]\n",
        "\n",
        "    # Check if section has content\n",
        "    if section_text.strip():\n",
        "        print(f\"Summarizing section: {section}\")\n",
        "        # Summarize with dynamic max_length\n",
        "        summary = summarize_text(section_text, max_length=section_length_settings[section])\n",
        "        # Store the summary\n",
        "        section_summaries[section] = summary\n",
        "    else:\n",
        "        section_summaries[section] = \"\"\n",
        "\n",
        "# Combine the summaries for a final output\n",
        "final_summary = \"\\n\\n\".join(\n",
        "    [f\"Summary of {section.capitalize()}:\\n{summary}\"\n",
        "     for section, summary in section_summaries.items() if summary]\n",
        ")\n",
        "\n",
        "# Add the final summary to the entry\n",
        "first_entry['summary'] = final_summary\n",
        "\n",
        "# Display the final summary\n",
        "print(\"Final Summary for the first entry:\\n\")\n",
        "print(first_entry['summary'])\n"
      ],
      "metadata": {
        "colab": {
          "base_uri": "https://localhost:8080/"
        },
        "id": "E_Dp2_r8pvvH",
        "outputId": "b1bfb27d-a9f4-428c-9192-6b5028e0f7d1"
      },
      "execution_count": null,
      "outputs": [
        {
          "output_type": "stream",
          "name": "stdout",
          "text": [
            "Summarizing section: procedure\n",
            "Summarizing section: facts\n"
          ]
        },
        {
          "output_type": "stream",
          "name": "stderr",
          "text": [
            "Your max_length is set to 300, but your input_length is only 291. Since this is a summarization task, where outputs shorter than the input are typically wanted, you might consider decreasing max_length manually, e.g. summarizer('...', max_length=145)\n"
          ]
        },
        {
          "output_type": "stream",
          "name": "stdout",
          "text": [
            "Summarizing section: law\n",
            "Final Summary for the first entry:\n",
            "\n",
            "Summary of Procedure:\n",
            "The case originated in an application lodged with the Court under Article 34 of the Convention for the Protection of Human Rights and Fundamental Freedoms. The Court acceded to the applicant's request not to have his name disclosed. The applicant alleged that the criminal investigations into his allegations of domestic abuse perpetrated by his father had been ineffective and that the ensuing proceedings had been unfair.\n",
            "\n",
            "Summary of Facts:\n",
            "The applicant was born in 2001 and lives in Bucharest. His parents separated in April 2004 and divorced in September 2004 because of D.D.'s abusive behaviour towards his wife and their son. The applicant remained with his mother. On 27 February 2004 C.I. called the hotline of the Bucharest Child Protection Authority to report the domestic abuse she and the applicant had been suffering at the hands of the applicant's father. Since then, the case has been monitored by the Authority. On 7 October 2008 the Authority certified that since 2004 it had included the applicant in a psychological counselling programme.\n",
            "\n",
            "Summary of Law:\n",
            "The Court of Justice of the European Union has ruled that a complaint filed by a man against the authorities for failing to investigate allegations of ill-treatment by his father, D.D., is admissible under Article 3 of the Convention on Human Rights. The Court ruled that the complaint is not manifestly ill-founded within the meaning of Article 35 3 (a) of the convention. It further notes that it is not inadmissible on any other grounds. The applicant argued that the proceeding had been excessively long and that the authorities had protracted the investigation and had failed to take into account that he had been a vulnerable person, a minor subject to domestic abuse. The Government argued that in the light of the serious and sensitive subject matter of the case, .<n>the effectiveness of the investigation had required an in-depth analysis of the evidence in order to avoid a miscarriage of justice, in particular as the parties had presented diverging and subjective representations of the situation which had rendered more difficult the establishment of facts.\n"
          ]
        }
      ]
    },
    {
      "cell_type": "code",
      "source": [],
      "metadata": {
        "id": "7XEJ4VWnpvsB"
      },
      "execution_count": null,
      "outputs": []
    },
    {
      "cell_type": "markdown",
      "source": [
        "##Model 3:\n",
        "LegalBERT_BART_fixed_V1 This model is a fine-tuned version of BART. The research involves a multi-step summarization approach to long, legal documents."
      ],
      "metadata": {
        "id": "Lf6DO80PXK4o"
      }
    },
    {
      "cell_type": "code",
      "source": [
        "# 3.1\n",
        "import json\n",
        "from transformers import pipeline\n",
        "\n",
        "# Load the summarization model\n",
        "summarizer = pipeline(\"summarization\", model=\"MikaSie/LegalBERT_BART_fixed_V1\")\n",
        "\n",
        "# Load your JSON data\n",
        "with open('extracted_legal_sections.json', 'r', encoding='utf-8') as f:\n",
        "    data = json.load(f)\n",
        "\n",
        "# Process the first entry only to check the output\n",
        "first_entry = data[0]\n",
        "\n",
        "# Define a function to summarize text with settings to reduce repetition\n",
        "def summarize_text(text, max_length=300):\n",
        "    summary = summarizer(\n",
        "        text,\n",
        "        max_length=max_length,\n",
        "        min_length=50,\n",
        "        do_sample=False,\n",
        "        no_repeat_ngram_size=3\n",
        "    )\n",
        "    return summary[0]['summary_text']\n",
        "\n",
        "# Initialize a list to hold summaries of each section\n",
        "section_summaries = {}\n",
        "\n",
        "# Summarize each section separately\n",
        "for section in ['procedure', 'facts', 'law']:\n",
        "    # Get the text for the section and clean it\n",
        "    section_text = first_entry.get(section, '').replace(\"§\", \"\").replace(\"\\u00a0\", \" \")\n",
        "\n",
        "    # Truncate the section text to fit model limits\n",
        "    section_text = section_text[:1000]  # Adjust as needed\n",
        "\n",
        "    # Check if the section has content\n",
        "    if section_text.strip():\n",
        "        print(f\"Summarizing section: {section}\")\n",
        "        # Summarize the section\n",
        "        summary = summarize_text(section_text, max_length=250)\n",
        "        # Store the summary\n",
        "        section_summaries[section] = summary\n",
        "    else:\n",
        "        section_summaries[section] = \"\"\n",
        "\n",
        "# Combine the summaries\n",
        "final_summary = \"\\n\\n\".join(\n",
        "    [f\"Summary of {section.capitalize()}:\\n{summary}\"\n",
        "     for section, summary in section_summaries.items() if summary]\n",
        ")\n",
        "\n",
        "# Add the final summary to the entry\n",
        "first_entry['summary'] = final_summary\n",
        "\n",
        "# Display the final summary\n",
        "print(\"Final Summary for the first entry:\\n\")\n",
        "print(first_entry['summary'])\n"
      ],
      "metadata": {
        "colab": {
          "base_uri": "https://localhost:8080/"
        },
        "id": "B0bBEfgspvo_",
        "outputId": "dc8eed95-60a9-42b8-c534-abd398f414d1"
      },
      "execution_count": null,
      "outputs": [
        {
          "output_type": "stream",
          "name": "stderr",
          "text": [
            "Your max_length is set to 250, but your input_length is only 218. Since this is a summarization task, where outputs shorter than the input are typically wanted, you might consider decreasing max_length manually, e.g. summarizer('...', max_length=109)\n"
          ]
        },
        {
          "output_type": "stream",
          "name": "stdout",
          "text": [
            "Summarizing section: procedure\n"
          ]
        },
        {
          "output_type": "stream",
          "name": "stderr",
          "text": [
            "Your max_length is set to 250, but your input_length is only 243. Since this is a summarization task, where outputs shorter than the input are typically wanted, you might consider decreasing max_length manually, e.g. summarizer('...', max_length=121)\n"
          ]
        },
        {
          "output_type": "stream",
          "name": "stdout",
          "text": [
            "Summarizing section: facts\n"
          ]
        },
        {
          "output_type": "stream",
          "name": "stderr",
          "text": [
            "Your max_length is set to 250, but your input_length is only 230. Since this is a summarization task, where outputs shorter than the input are typically wanted, you might consider decreasing max_length manually, e.g. summarizer('...', max_length=115)\n"
          ]
        },
        {
          "output_type": "stream",
          "name": "stdout",
          "text": [
            "Summarizing section: law\n",
            "Final Summary for the first entry:\n",
            "\n",
            "Summary of Procedure:\n",
            "Protection of human rights and fundamental freedoms in the context of the Convention for the Protection of Human Rights and Fundamental Freedoms (CPHRF) against Romania (OJ L 183, 25.3.2014, pp. 1-8)\n",
            "Protection in the framework of the CPHRF against Romania\n",
            "SUMMARY OF:\n",
            "Decision (EU) 2015/852/EU — application for protection under Article 34 of the convention for the protection of human Rights and fundamental Freedoms against Romania lodged with the European Court of Justice (ECJ)\n",
            "WHAT IS THE AIM OF THE DECISION?\n",
            "The decision seeks to protect the rights of a European Union (EU, EU) citizen who was the subject of a criminal investigation in Romania for alleged domestic abuse perpetrated by his father.\n",
            "KEY POINTS\n",
            "The case originated in an application (no. 23022/13) by the European Union lodged against Romania for protection against the EU country’s infringement of its obligations under the Convention on the protection for human rights, fundamental freedoms and international law.\n",
            "The EU country is a signatory to the EU Convention on Fundamental Rights and the International Convention on Civil and Political Rights (COP\n",
            "\n",
            "Summary of Facts:\n",
            "Domestic abuse of a spouse and their child\n",
            "Domestic violence of a husband and his child\n",
            "SUMMARY OF:\n",
            "Decision (EU) 2015/852/EU on the protection of the children of the applicant and his mother against domestic abuse\n",
            "WHAT IS THE AIM OF THE DECISION?\n",
            "The decision seeks to protect the child of an EU citizen who was abused by his spouse and her partner.\n",
            "It seeks to prevent the abuse of the child by the husband and the mother of his child.\n",
            "KEY POINTS\n",
            "The case was brought before the Court of Justice of the European Union (CJEU) on 29 August 2005 for the purpose of court proceedings.\n",
            "The applicant was born in 2001 and lives in Bucharest. His parents, C.I. and D.D., separated in April 2004 and divorced in September 2004, mainly because of the husband’s abusive behaviour towards his wife and their son. The child remained with his mother. The case was monitored by the Child Protection Authority (Direcřia Generală de Asistenţă Socială şi Protecţia Copilului).\n",
            "The\n",
            "\n",
            "Summary of Law:\n",
            "Torture and inhuman and degrading treatment: EU countries’ obligations under the Convention on the Prevention of Torture and the Punishment of Unnatural Persons\n",
            "The EU countries' obligations under Article 3(3) of the Convention against Torture are set out in the Rome Statute of the International Criminal Tribunal for the former Yugoslavia.\n",
            "ACT\n",
            "Council of the European Union, Council of Europe and Council of the Republic of Ireland Decision 2008/852/EC of 26 June 2008 on the application for the application of Article 3 of the Rome Convention against the Punition of Unlawful Persons.\n",
            "SUMMARY\n",
            "The European Union (EU) is a signatory to the International Convention against torture and inhuman or degrading treatment or punishment (Cotonou Convention) and to the Protocol of the Hague on the prohibition of torture and the punishment of unlawful persons.\n",
            "The Rome Convention prohibits all forms of torture, including the use of force and the deprivation of liberty. It also prohibits the use, deprivation or deprivation of the liberty of a person who is a vulnerable person, subject to domestic abuse or who has been the victim of sexual abuse or domestic violence.\n",
            "EU countries are required to take all necessary measures to prevent\n"
          ]
        }
      ]
    },
    {
      "cell_type": "code",
      "source": [],
      "metadata": {
        "id": "vgSoBM6vpvl9"
      },
      "execution_count": null,
      "outputs": []
    },
    {
      "cell_type": "code",
      "source": [
        "import json\n",
        "from transformers import pipeline\n",
        "from rouge_score import rouge_scorer\n",
        "import torch\n",
        "\n",
        "# Use just the first entry to reduce memory usage\n",
        "with open('extracted_legal_sections.json', 'r', encoding='utf-8') as f:\n",
        "    data = json.load(f)\n",
        "first_entry = data[0]\n",
        "\n",
        "# Initialize models (switch the model names here for different tests)\n",
        "models = {\n",
        "    \"LegalBERT_BART\": pipeline(\"summarization\", model=\"MikaSie/LegalBERT_BART_fixed_V1\", device=0 if torch.cuda.is_available() else -1),\n",
        "    \"LegalPegasus\": pipeline(\"summarization\", model=\"nsi319/legal-pegasus\", device=0 if torch.cuda.is_available() else -1),\n",
        "    \"T5_Portuguese\": pipeline(\"summarization\", model=\"stjiris/t5-portuguese-legal-summarization\", device=0 if torch.cuda.is_available() else -1)\n",
        "}\n",
        "\n",
        "# Truncate text if necessary to fit model limits (adjust this as per model needs)\n",
        "def summarize_text(text, summarizer, max_length=300):\n",
        "    summary = summarizer(\n",
        "        text[:1000],  # Truncate to 1000 characters if needed\n",
        "        max_length=max_length,\n",
        "        min_length=50,\n",
        "        do_sample=False,\n",
        "        no_repeat_ngram_size=3\n",
        "    )\n",
        "    return summary[0]['summary_text']\n",
        "\n",
        "# Initialize ROUGE scorer\n",
        "scorer = rouge_scorer.RougeScorer(['rouge1', 'rouge2', 'rougeL'], use_stemmer=True)\n",
        "\n",
        "# Store and compare summaries\n",
        "section_summaries = {model_name: {} for model_name in models}\n",
        "\n",
        "# Summarize each section and score\n",
        "for model_name, summarizer in models.items():\n",
        "    for section in ['procedure', 'facts', 'law']:\n",
        "        text = first_entry.get(section, '').replace(\"§\", \"\").replace(\"\\u00a0\", \" \")\n",
        "        if text.strip():\n",
        "            print(f\"Summarizing '{section}' section with model: {model_name}\")\n",
        "            summary = summarize_text(text, summarizer, max_length=250)\n",
        "            section_summaries[model_name][section] = summary\n",
        "\n",
        "# Display the summaries for review\n",
        "for model_name, summaries in section_summaries.items():\n",
        "    print(f\"\\nModel: {model_name}\")\n",
        "    for section, summary in summaries.items():\n",
        "        print(f\"Summary of {section.capitalize()}:\\n{summary}\\n\")\n"
      ],
      "metadata": {
        "colab": {
          "base_uri": "https://localhost:8080/",
          "height": 1000,
          "referenced_widgets": [
            "6ab9b4c6a02249b88d1474996ee928d1",
            "d885008075e44d8f934fc66d9d63ee30",
            "ce3ddac5dca34027ae48734255d1c8bc",
            "344954f41deb4ec3b3ead59c40387f84",
            "7f81393002e74c64a12ca8cede2a5147",
            "061f7c0a344649bfa099cc4a0796539d",
            "05a40d1b17004a81b363e3015bc9e3b4",
            "0ef979e014714d09b19d3cea46731f95",
            "92b0f83db79342309c56e5106abc284a",
            "4212459cf3f0453ba0c86a41ee27d807",
            "9052ba81184d422c81d6162131b584d1",
            "4dcfc85480ae4ee6b70e6820bcbf9243",
            "9ed0bf4b05b94f59b9d9338a3046d90c",
            "b970dfe196de42229e5fd9bb59c48385",
            "d722a5085d73429aa8c4353ca75ebeeb",
            "67f6f3f2c49041958440825ed3947d92",
            "998a20f2f76d49b2ad57e1f058bb6ec4",
            "53ee22d9250d4fb2b087409a28e37994",
            "8acf017cb8004cf1ac8b4d32911e8b2c",
            "afabd88a1f7249cbb79d5c277f0daa42",
            "603279a25ea840dbb2878610b723f178",
            "5973f2d208544f01984edc520a65a415",
            "af313a1e57804d77b468fe23fc5cefc2",
            "704f5f43979349b3bcdc203901b4369f",
            "4aabe812a28f477d9d546a5d87b84abb",
            "1e5abd9d799d4d34a9c309cfb8f33e21",
            "02b05fb51ca3456fabc36929dfeac093",
            "f476dbd0e14f4beb91686c9f1914f3cc",
            "00601fd600ad412a9abfc552febd8cfe",
            "3e97ceaf6ff445f885a215902154b417",
            "b8e64b4281f448778c40bc5112350371",
            "2ec2ea3e509f46ac8e2324df5b915a43",
            "ab94eb67c06c4c5dab344bcc1f3784aa",
            "f455c10d87c643aaa28cc4ea5c5ade20",
            "a0eceaa118b24225820c1457dc1e93ab",
            "2ec8f4550bb04b4d8dd8c7c42b22e9e2",
            "8145e530ba0a4ee8946a5126b8c46635",
            "693337cd2ad04a1a8398b5272f26e23c",
            "a3beb0c1955f4d3eb06836dfbc6f1a0b",
            "99f207af580d43159b741dac49e1f918",
            "2e94ea8e13b145aca322ab71ca945777",
            "570e75ed7f1a466e852572363028fe81",
            "3b7736aa837b46e1aa8a9b18a14bcc2f",
            "390f1c478627479aafc42eaf8b8f03fe",
            "f286ebc66432469086d6f0333be2918b",
            "f0664a3ada854323bbc4804d2894f9a3",
            "6343f03340bb47299a884323cecbf0e1",
            "7186d317396f453f86e97cba0fc08844",
            "fec630a006fd47d8ab9227edf97bf020",
            "bd873863687b4cf7be21fb067b29f39f",
            "539aca0aca514b74b79d5a9f69e23aa8",
            "cd3fc008611f47f0b2bc28d4a07b83d0",
            "ae58b5e5cc4e4918aa003e23975209dc",
            "3f3de0e6eb5c443cad07614c5e4179e8",
            "237cf9d5b282446e837a5f234aa052b4"
          ]
        },
        "id": "iThkAfsSpvjF",
        "outputId": "172f71cc-b659-4fcb-c3be-e7f914eba4a2"
      },
      "execution_count": 1,
      "outputs": [
        {
          "output_type": "stream",
          "name": "stderr",
          "text": [
            "/usr/local/lib/python3.10/dist-packages/huggingface_hub/utils/_token.py:89: UserWarning: \n",
            "The secret `HF_TOKEN` does not exist in your Colab secrets.\n",
            "To authenticate with the Hugging Face Hub, create a token in your settings tab (https://huggingface.co/settings/tokens), set it as secret in your Google Colab and restart your session.\n",
            "You will be able to reuse this secret in all of your notebooks.\n",
            "Please note that authentication is recommended but still optional to access public models or datasets.\n",
            "  warnings.warn(\n",
            "/usr/local/lib/python3.10/dist-packages/transformers/tokenization_utils_base.py:1601: FutureWarning: `clean_up_tokenization_spaces` was not set. It will be set to `True` by default. This behavior will be depracted in transformers v4.45, and will be then set to `False` by default. For more details check this issue: https://github.com/huggingface/transformers/issues/31884\n",
            "  warnings.warn(\n"
          ]
        },
        {
          "output_type": "display_data",
          "data": {
            "text/plain": [
              "config.json:   0%|          | 0.00/762 [00:00<?, ?B/s]"
            ],
            "application/vnd.jupyter.widget-view+json": {
              "version_major": 2,
              "version_minor": 0,
              "model_id": "6ab9b4c6a02249b88d1474996ee928d1"
            }
          },
          "metadata": {}
        },
        {
          "output_type": "display_data",
          "data": {
            "text/plain": [
              "model.safetensors:   0%|          | 0.00/892M [00:00<?, ?B/s]"
            ],
            "application/vnd.jupyter.widget-view+json": {
              "version_major": 2,
              "version_minor": 0,
              "model_id": "4dcfc85480ae4ee6b70e6820bcbf9243"
            }
          },
          "metadata": {}
        },
        {
          "output_type": "display_data",
          "data": {
            "text/plain": [
              "tokenizer_config.json:   0%|          | 0.00/2.38k [00:00<?, ?B/s]"
            ],
            "application/vnd.jupyter.widget-view+json": {
              "version_major": 2,
              "version_minor": 0,
              "model_id": "af313a1e57804d77b468fe23fc5cefc2"
            }
          },
          "metadata": {}
        },
        {
          "output_type": "display_data",
          "data": {
            "text/plain": [
              "spiece.model:   0%|          | 0.00/756k [00:00<?, ?B/s]"
            ],
            "application/vnd.jupyter.widget-view+json": {
              "version_major": 2,
              "version_minor": 0,
              "model_id": "f455c10d87c643aaa28cc4ea5c5ade20"
            }
          },
          "metadata": {}
        },
        {
          "output_type": "display_data",
          "data": {
            "text/plain": [
              "special_tokens_map.json:   0%|          | 0.00/2.20k [00:00<?, ?B/s]"
            ],
            "application/vnd.jupyter.widget-view+json": {
              "version_major": 2,
              "version_minor": 0,
              "model_id": "f286ebc66432469086d6f0333be2918b"
            }
          },
          "metadata": {}
        },
        {
          "output_type": "stream",
          "name": "stderr",
          "text": [
            "You are using the default legacy behaviour of the <class 'transformers.models.t5.tokenization_t5.T5Tokenizer'>. This is expected, and simply means that the `legacy` (previous) behavior will be used so nothing changes for you. If you want to use the new behaviour, set `legacy=False`. This should only be set if you understand what it means, and thoroughly read the reason why this was added as explained in https://github.com/huggingface/transformers/pull/24565\n",
            "Your max_length is set to 250, but your input_length is only 218. Since this is a summarization task, where outputs shorter than the input are typically wanted, you might consider decreasing max_length manually, e.g. summarizer('...', max_length=109)\n"
          ]
        },
        {
          "output_type": "stream",
          "name": "stdout",
          "text": [
            "Summarizing 'procedure' section with model: LegalBERT_BART\n"
          ]
        },
        {
          "output_type": "stream",
          "name": "stderr",
          "text": [
            "Your max_length is set to 250, but your input_length is only 243. Since this is a summarization task, where outputs shorter than the input are typically wanted, you might consider decreasing max_length manually, e.g. summarizer('...', max_length=121)\n"
          ]
        },
        {
          "output_type": "stream",
          "name": "stdout",
          "text": [
            "Summarizing 'facts' section with model: LegalBERT_BART\n"
          ]
        },
        {
          "output_type": "stream",
          "name": "stderr",
          "text": [
            "Your max_length is set to 250, but your input_length is only 230. Since this is a summarization task, where outputs shorter than the input are typically wanted, you might consider decreasing max_length manually, e.g. summarizer('...', max_length=115)\n"
          ]
        },
        {
          "output_type": "stream",
          "name": "stdout",
          "text": [
            "Summarizing 'law' section with model: LegalBERT_BART\n"
          ]
        },
        {
          "output_type": "stream",
          "name": "stderr",
          "text": [
            "Your max_length is set to 250, but your input_length is only 187. Since this is a summarization task, where outputs shorter than the input are typically wanted, you might consider decreasing max_length manually, e.g. summarizer('...', max_length=93)\n"
          ]
        },
        {
          "output_type": "stream",
          "name": "stdout",
          "text": [
            "Summarizing 'procedure' section with model: LegalPegasus\n"
          ]
        },
        {
          "output_type": "stream",
          "name": "stderr",
          "text": [
            "Your max_length is set to 250, but your input_length is only 220. Since this is a summarization task, where outputs shorter than the input are typically wanted, you might consider decreasing max_length manually, e.g. summarizer('...', max_length=110)\n"
          ]
        },
        {
          "output_type": "stream",
          "name": "stdout",
          "text": [
            "Summarizing 'facts' section with model: LegalPegasus\n"
          ]
        },
        {
          "output_type": "stream",
          "name": "stderr",
          "text": [
            "Your max_length is set to 250, but your input_length is only 198. Since this is a summarization task, where outputs shorter than the input are typically wanted, you might consider decreasing max_length manually, e.g. summarizer('...', max_length=99)\n"
          ]
        },
        {
          "output_type": "stream",
          "name": "stdout",
          "text": [
            "Summarizing 'law' section with model: LegalPegasus\n",
            "Summarizing 'procedure' section with model: T5_Portuguese\n",
            "Summarizing 'facts' section with model: T5_Portuguese\n",
            "Summarizing 'law' section with model: T5_Portuguese\n",
            "\n",
            "Model: LegalBERT_BART\n",
            "Summary of Procedure:\n",
            "Protection of human rights and fundamental freedoms in the context of the Convention for the Protection of Human Rights and Fundamental Freedoms (CPHRF) against Romania (OJ L 183, 25.3.2014, pp. 1-8)\n",
            "Protection in the framework of the CPHRF against Romania\n",
            "SUMMARY OF:\n",
            "Decision (EU) 2015/852/EU — application for protection under Article 34 of the convention for the protection of human Rights and fundamental Freedoms against Romania lodged with the European Court of Justice (ECJ)\n",
            "WHAT IS THE AIM OF THE DECISION?\n",
            "The decision seeks to protect the rights of a European Union (EU, EU) citizen who was the subject of a criminal investigation in Romania for alleged domestic abuse perpetrated by his father.\n",
            "KEY POINTS\n",
            "The case originated in an application (no. 23022/13) by the European Union lodged against Romania for protection against the EU country’s infringement of its obligations under the Convention on the protection for human rights, fundamental freedoms and international law.\n",
            "The EU country is a signatory to the EU Convention on Fundamental Rights and the International Convention on Civil and Political Rights (COP\n",
            "\n",
            "Summary of Facts:\n",
            "Domestic abuse of a spouse and their child\n",
            "Domestic violence of a husband and his child\n",
            "SUMMARY OF:\n",
            "Decision (EU) 2015/852/EU on the protection of the children of the applicant and his mother against domestic abuse\n",
            "WHAT IS THE AIM OF THE DECISION?\n",
            "The decision seeks to protect the child of an EU citizen who was abused by his spouse and her partner.\n",
            "It seeks to prevent the abuse of the child by the husband and the mother of his child.\n",
            "KEY POINTS\n",
            "The case was brought before the Court of Justice of the European Union (CJEU) on 29 August 2005 for the purpose of court proceedings.\n",
            "The applicant was born in 2001 and lives in Bucharest. His parents, C.I. and D.D., separated in April 2004 and divorced in September 2004, mainly because of the husband’s abusive behaviour towards his wife and their son. The child remained with his mother. The case was monitored by the Child Protection Authority (Direcřia Generală de Asistenţă Socială şi Protecţia Copilului).\n",
            "The\n",
            "\n",
            "Summary of Law:\n",
            "Torture and inhuman and degrading treatment: EU countries’ obligations under the Convention on the Prevention of Torture and the Punishment of Unnatural Persons\n",
            "The EU countries' obligations under Article 3(3) of the Convention against Torture are set out in the Rome Statute of the International Criminal Tribunal for the former Yugoslavia.\n",
            "ACT\n",
            "Council of the European Union, Council of Europe and Council of the Republic of Ireland Decision 2008/852/EC of 26 June 2008 on the application for the application of Article 3 of the Rome Convention against the Punition of Unlawful Persons.\n",
            "SUMMARY\n",
            "The European Union (EU) is a signatory to the International Convention against torture and inhuman or degrading treatment or punishment (Cotonou Convention) and to the Protocol of the Hague on the prohibition of torture and the punishment of unlawful persons.\n",
            "The Rome Convention prohibits all forms of torture, including the use of force and the deprivation of liberty. It also prohibits the use, deprivation or deprivation of the liberty of a person who is a vulnerable person, subject to domestic abuse or who has been the victim of sexual abuse or domestic violence.\n",
            "EU countries are required to take all necessary measures to prevent\n",
            "\n",
            "\n",
            "Model: LegalPegasus\n",
            "Summary of Procedure:\n",
            "The case originated in an application lodged with the Court under Article 34 of the Convention for the Protection of Human Rights and Fundamental Freedoms. The Court acceded to the applicant's request not to have his name disclosed. The applicant alleged that the criminal investigations into his allegations of domestic abuse perpetrated by his father had been ineffective and that the ensuing proceedings had been unfair.\n",
            "\n",
            "Summary of Facts:\n",
            "The applicant was born in 2001 and lives in Bucharest. His parents separated in April 2004 and divorced in September 2004 because of D.D.'s abusive behaviour towards his wife and their son. The applicant remained with his mother. Since then, the case has been monitored by the Bucharest Child Protection Authority. On 7 October 2008, the Authority certified that since 2004 it had included the applicant in a psychological counselling programme.\n",
            "\n",
            "Summary of Law:\n",
            "The Court of Justice of the European Union has ruled that a complaint filed by a man against the authorities for failing to investigate allegations of ill-treatment is admissible under the European Convention on Human Rights. The Court ruled that the complaint is not manifestly ill-founded within the meaning of Article 35 3 (a) of the Convention. It further notes that it is not inadmissible on any other grounds. The applicant argued that the proceeding had been excessively long and that the authorities had protracted the investigation and had failed to take into account that he had been a vulnerable person, a minor subject to domestic abuse.\n",
            "\n",
            "\n",
            "Model: T5_Portuguese\n",
            "Summary of Procedure:\n",
            "1. The case originated in an application (no. 23022/13) against Romania lodged with the Court under Article 34 of the Convention for the Protection of Human Rights and Fundamental Freedoms (“the Conventional”) by a Romanian national, Mr D.M.D. (“the applint”), on 22 March 2013. The Court acceded to the aptuant’s request not to have his name disclosed (Rule 47 4 of the Rules of Court). 2. The ap aplicant, who had been granted legal aid, was represented by Ms N.T. Popescu, a lawyer practising in Bucharest. The Romanian Government (“the Governmento”) were representeed by their Agent, Ms C. Brumar, from the Ministry of Foreign Affairs. 3. The aapplicant alleged that the criminal investigations into his allegations of domestic abuse per\n",
            "\n",
            "Summary of Facts:\n",
            "I. THE CIRCUMSTANCES OF THES CASE 5. The applicant was born in 2001 and lives in Bucharest. His parents, C.I. and D.D., separated in April 2004 and divorced in September 2004, mainly because of D.C.’s abusive behaviour towards his wife and their son. The Application remained with his mother. On 27 February 2004 C. I. called the hotline of the Buchares Child Protection Authority (Direcţia Generală de Asistenţă Socială şi Protecţia Copilului) to report the domestic abuse she and the applint had been suffering at the hands of D-D. Since then, the case has been monitored by the Authorities. On 7 October 2008 the Child Protector Authoridade certified that since 2004 it\n",
            "\n",
            "Summary of Law:\n",
            "I. ALLEGED VIOLATION OF ARTICLE 3 OF THE CONVENTION 36. The applicant complained that the authorities (the police, the prosecutor’s office and the courts) had failed to investigate promptly and effectively the allegations of ill-treatment inflicted on him, despite the evidence brought before them. He relied on Article 3 of the Convention, which reads as follows: “No one shall be subjected to torture or to inhuman or degrading treatment or punishment.” A. Admissibility 37. The Court notes that this complaint is not manifestly ill–founded within the meaning of Articles 35 3 (a) of the CONvention. It further notes of it is note inadmissible on a\n",
            "\n"
          ]
        }
      ]
    },
    {
      "cell_type": "code",
      "source": [
        "## rouge score\n",
        "## we dont have actual legal summaries for ths data so we took reference summary that is generated by chatGPT 4o model.\n",
        "\n"
      ],
      "metadata": {
        "id": "tLGWvwFupvfy"
      },
      "execution_count": null,
      "outputs": []
    },
    {
      "cell_type": "code",
      "source": [
        "from rouge_score import rouge_scorer\n",
        "\n",
        "# Initialize ROUGE scorer\n",
        "scorer = rouge_scorer.RougeScorer(['rouge1', 'rouge2', 'rougeL'], use_stemmer=True)\n",
        "\n",
        "# Define reference summaries for evaluation (replace with correct references for your data)\n",
        "reference_summaries = {\n",
        "    'procedure': \"The applicant, a Romanian national, lodged an application with the European Court of Human Rights on March 22, 2013, alleging ineffective investigations and unfair proceedings concerning domestic abuse inflicted by his father. Legal aid was granted, and the Romanian government was represented by Ms. C. Brumar. The application was officially communicated to the government on March 25, 2014.\",\n",
        "    'facts': \"The applicant, born in 2001 and residing in Bucharest, experienced domestic abuse from his father, D.D., which led to his parents' separation and eventual divorce in 2004. His mother reported the abuse to the Bucharest Child Protection Authority, leading to ongoing monitoring and psychological counseling for the applicant. The police and prosecutors investigated and gathered evidence, resulting in D.D.'s indictment for abusive behavior. After a lengthy legal process, D.D. was initially acquitted, but subsequent appeals and hearings led to a conviction for ill-treatment, a suspended sentence, and a damages award for the applicant.\",\n",
        "    'law': \"The applicant claimed that authorities failed to promptly and effectively investigate the domestic abuse allegations, a breach of Article 3 of the European Convention on Human Rights. The authorities argued that the investigation’s complexity justified its duration, while the applicant contended that delays and lack of action compromised the investigation’s effectiveness and fairness. The court found significant procedural flaws, ultimately concluding that the investigation into the applicant's allegations was ineffective, leading to a violation of the procedural guarantees under Article 3.\"\n",
        "}\n",
        "\n",
        "# Function to calculate ROUGE scores\n",
        "def calculate_rouge_scores(generated, reference):\n",
        "    scores = scorer.score(reference, generated)\n",
        "    return {\n",
        "        \"ROUGE-1\": scores['rouge1'].fmeasure,\n",
        "        \"ROUGE-2\": scores['rouge2'].fmeasure,\n",
        "        \"ROUGE-L\": scores['rougeL'].fmeasure\n",
        "    }\n",
        "\n",
        "# Compare model summaries with reference summaries\n",
        "results = {}\n",
        "for model_name, summaries in section_summaries.items():\n",
        "    print(f\"\\nROUGE scores for {model_name}:\")\n",
        "    model_scores = {}\n",
        "    for section, generated_summary in summaries.items():\n",
        "        if section in reference_summaries:\n",
        "            scores = calculate_rouge_scores(generated_summary, reference_summaries[section])\n",
        "            model_scores[section] = scores\n",
        "            print(f\"{section.capitalize()} - ROUGE-1: {scores['ROUGE-1']:.4f}, ROUGE-2: {scores['ROUGE-2']:.4f}, ROUGE-L: {scores['ROUGE-L']:.4f}\")\n",
        "    results[model_name] = model_scores\n"
      ],
      "metadata": {
        "id": "as98kfjtpvdA",
        "colab": {
          "base_uri": "https://localhost:8080/"
        },
        "outputId": "cc2382ef-7793-442a-fd50-2d322c281e52"
      },
      "execution_count": 2,
      "outputs": [
        {
          "output_type": "stream",
          "name": "stdout",
          "text": [
            "\n",
            "ROUGE scores for LegalBERT_BART:\n",
            "Procedure - ROUGE-1: 0.2656, ROUGE-2: 0.1004, ROUGE-L: 0.1743\n",
            "Facts - ROUGE-1: 0.3443, ROUGE-2: 0.1107, ROUGE-L: 0.1758\n",
            "Law - ROUGE-1: 0.2394, ROUGE-2: 0.0851, ROUGE-L: 0.1549\n",
            "\n",
            "ROUGE scores for LegalPegasus:\n",
            "Procedure - ROUGE-1: 0.4480, ROUGE-2: 0.1626, ROUGE-L: 0.2880\n",
            "Facts - ROUGE-1: 0.4678, ROUGE-2: 0.2130, ROUGE-L: 0.3158\n",
            "Law - ROUGE-1: 0.4767, ROUGE-2: 0.1885, ROUGE-L: 0.2798\n",
            "\n",
            "ROUGE scores for T5_Portuguese:\n",
            "Procedure - ROUGE-1: 0.4262, ROUGE-2: 0.1878, ROUGE-L: 0.2732\n",
            "Facts - ROUGE-1: 0.4055, ROUGE-2: 0.1395, ROUGE-L: 0.2765\n",
            "Law - ROUGE-1: 0.4271, ROUGE-2: 0.1474, ROUGE-L: 0.2500\n"
          ]
        }
      ]
    },
    {
      "cell_type": "markdown",
      "source": [
        "\n",
        "Conclusion:\n",
        "\n",
        "LegalPegasus outperformed the other models across all sections, particularly with higher ROUGE-1, ROUGE-2, and ROUGE-L scores, indicating better overlap with the reference summary.\n",
        "T5_Portuguese also performed well, especially in the Procedure and Facts sections, showing strong ROUGE-1 scores but slightly lower ROUGE-L scores compared to LegalPegasus.\n",
        "LegalBERT_BART showed the lowest scores across the board, suggesting that its generated summaries had less content overlap with the reference summary.\n",
        "\n",
        "LegalPegasus provides the best alignment with the reference summary based on ROUGE metrics, particularly excelling in capturing both individual words and phrases (ROUGE-1 and ROUGE-2) as well as sequence structure (ROUGE-L)."
      ],
      "metadata": {
        "id": "qN9OFffRiHWP"
      }
    },
    {
      "cell_type": "code",
      "source": [],
      "metadata": {
        "id": "z-KHRDGIpvZ3"
      },
      "execution_count": null,
      "outputs": []
    },
    {
      "cell_type": "code",
      "source": [],
      "metadata": {
        "id": "-j1PZCx4pvXH"
      },
      "execution_count": null,
      "outputs": []
    },
    {
      "cell_type": "code",
      "source": [],
      "metadata": {
        "id": "iDluPyIKpvUN"
      },
      "execution_count": null,
      "outputs": []
    },
    {
      "cell_type": "code",
      "source": [],
      "metadata": {
        "id": "8NRRzWsrpvQu"
      },
      "execution_count": null,
      "outputs": []
    },
    {
      "cell_type": "code",
      "source": [],
      "metadata": {
        "id": "V0JFw8mipvNh"
      },
      "execution_count": null,
      "outputs": []
    },
    {
      "cell_type": "code",
      "source": [],
      "metadata": {
        "id": "qqFBAiqepvKf"
      },
      "execution_count": null,
      "outputs": []
    },
    {
      "cell_type": "code",
      "source": [],
      "metadata": {
        "id": "kqrF6vHzpvHw"
      },
      "execution_count": null,
      "outputs": []
    },
    {
      "cell_type": "code",
      "source": [],
      "metadata": {
        "id": "NiW1LggQpvEy"
      },
      "execution_count": null,
      "outputs": []
    },
    {
      "cell_type": "code",
      "source": [],
      "metadata": {
        "id": "UJ1_W75opvBi"
      },
      "execution_count": null,
      "outputs": []
    },
    {
      "cell_type": "code",
      "source": [],
      "metadata": {
        "id": "E8ZGh3yUpu-n"
      },
      "execution_count": null,
      "outputs": []
    },
    {
      "cell_type": "code",
      "source": [],
      "metadata": {
        "id": "jR1_l2pnpu7h"
      },
      "execution_count": null,
      "outputs": []
    },
    {
      "cell_type": "code",
      "source": [],
      "metadata": {
        "id": "6_3sgk0gpu4q"
      },
      "execution_count": null,
      "outputs": []
    },
    {
      "cell_type": "code",
      "source": [],
      "metadata": {
        "id": "gDxxFzxapu17"
      },
      "execution_count": null,
      "outputs": []
    },
    {
      "cell_type": "code",
      "source": [],
      "metadata": {
        "id": "Y9V11Jfqpuy3"
      },
      "execution_count": null,
      "outputs": []
    },
    {
      "cell_type": "markdown",
      "source": [],
      "metadata": {
        "id": "YPELyOhlPDKU"
      }
    }
  ]
}